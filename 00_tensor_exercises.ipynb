{
  "cells": [
    {
      "cell_type": "code",
      "execution_count": 196,
      "metadata": {
        "id": "PjGfJ7MN_oIN"
      },
      "outputs": [],
      "source": [
        "# M.D.P. Wijesuriya\n",
        "# 18-7-2025"
      ]
    },
    {
      "cell_type": "markdown",
      "metadata": {
        "id": "qGWxcXX7_oIO"
      },
      "source": [
        "# Tensor Exercises"
      ]
    },
    {
      "cell_type": "code",
      "source": [
        "import torch"
      ],
      "metadata": {
        "id": "1qxjaWNr6mBG"
      },
      "execution_count": 197,
      "outputs": []
    },
    {
      "cell_type": "markdown",
      "metadata": {
        "id": "X8lZFGRW_oIP"
      },
      "source": [
        "# 1. Tensor Creation"
      ]
    },
    {
      "cell_type": "code",
      "execution_count": 198,
      "metadata": {
        "colab": {
          "base_uri": "https://localhost:8080/"
        },
        "id": "7m1nuri6_oIP",
        "outputId": "85d5fc4b-6b78-4ea4-9858-b082664a1a37"
      },
      "outputs": [
        {
          "output_type": "stream",
          "name": "stdout",
          "text": [
            "Tensor of shape (5, 3):\n",
            "tensor([[0.0199, 0.1905, 0.4290],\n",
            "        [0.1363, 0.1966, 0.0316],\n",
            "        [0.5440, 0.8224, 0.1677],\n",
            "        [0.2714, 0.2008, 0.1246],\n",
            "        [0.3153, 0.8828, 0.2674]])\n"
          ]
        }
      ],
      "source": [
        "# Create a tensor of shape (5, 3) filled with random values.\n",
        "tensor = torch.rand(5, 3)\n",
        "\n",
        "print(\"Tensor of shape (5, 3):\")\n",
        "print(tensor)"
      ]
    },
    {
      "cell_type": "code",
      "execution_count": 199,
      "metadata": {
        "colab": {
          "base_uri": "https://localhost:8080/"
        },
        "id": "DSLRj-nX_oIP",
        "outputId": "3e1d57aa-b9ef-4bad-e58d-94323d88b3ca"
      },
      "outputs": [
        {
          "output_type": "stream",
          "name": "stdout",
          "text": [
            "Tensor of shape (2, 4) filled with ones:\n",
            "tensor([[1., 1., 1., 1.],\n",
            "        [1., 1., 1., 1.]])\n"
          ]
        }
      ],
      "source": [
        "# Create a tensor of shape (2, 4) filled with ones.\n",
        "tensor = torch.ones(2, 4)\n",
        "\n",
        "print(\"Tensor of shape (2, 4) filled with ones:\")\n",
        "print(tensor)"
      ]
    },
    {
      "cell_type": "code",
      "execution_count": 200,
      "metadata": {
        "colab": {
          "base_uri": "https://localhost:8080/"
        },
        "id": "OFTr0x-2_oIP",
        "outputId": "3256aea4-bd6d-4d5d-d814-218f4e0f33ed"
      },
      "outputs": [
        {
          "output_type": "stream",
          "name": "stdout",
          "text": [
            "Tensor from list:\n",
            "tensor([ 5, 10, 15, 20])\n"
          ]
        }
      ],
      "source": [
        "# Create a tensor from a list [5, 10, 15, 20].\n",
        "tensor = torch.tensor([5, 10, 15, 20])\n",
        "\n",
        "print(\"Tensor from list:\")\n",
        "print(tensor)"
      ]
    },
    {
      "cell_type": "code",
      "execution_count": 201,
      "metadata": {
        "colab": {
          "base_uri": "https://localhost:8080/"
        },
        "id": "YTPeHwCt_oIQ",
        "outputId": "fd054981-bbde-482e-dfa1-52df528c8bed"
      },
      "outputs": [
        {
          "output_type": "stream",
          "name": "stdout",
          "text": [
            "Image Tensor shape: torch.Size([3, 6, 8])\n"
          ]
        }
      ],
      "source": [
        "# Create a tensor to represent an image that has width of 8, height of 6, and 3 channels.\n",
        "image_tensor = torch.rand(3, 6, 8)\n",
        "\n",
        "print(\"Image Tensor shape:\", image_tensor.shape)"
      ]
    },
    {
      "cell_type": "markdown",
      "metadata": {
        "id": "8TzUWqGh_oIQ"
      },
      "source": [
        "# 2. Tensor Indexing and Slicing"
      ]
    },
    {
      "cell_type": "code",
      "execution_count": 202,
      "metadata": {
        "colab": {
          "base_uri": "https://localhost:8080/"
        },
        "id": "No2u7qrK_oIQ",
        "outputId": "3d12a714-bdf5-457f-c123-1a622a441551"
      },
      "outputs": [
        {
          "output_type": "stream",
          "name": "stdout",
          "text": [
            "Tensor of shape (3, 4) with values from 10 to 21:\n",
            "tensor([[10, 11, 12, 13],\n",
            "        [14, 15, 16, 17],\n",
            "        [18, 19, 20, 21]])\n"
          ]
        }
      ],
      "source": [
        "# Create a tensor tensor of shape (3, 4) with values ranging from 10 to 22.\n",
        "# Create a 1D tensor with values from 10 to 21 (22 is exclusive)\n",
        "values = torch.arange(10, 22)\n",
        "\n",
        "# Reshape it to (3, 4)\n",
        "tensor = values.reshape(3, 4)\n",
        "\n",
        "print(\"Tensor of shape (3, 4) with values from 10 to 21:\")\n",
        "print(tensor)"
      ]
    },
    {
      "cell_type": "code",
      "source": [
        "image_tensor"
      ],
      "metadata": {
        "colab": {
          "base_uri": "https://localhost:8080/"
        },
        "id": "xahsBWWG8Fqh",
        "outputId": "5b759e84-81cf-49af-d5ef-1cd68425d776"
      },
      "execution_count": 203,
      "outputs": [
        {
          "output_type": "execute_result",
          "data": {
            "text/plain": [
              "tensor([[[0.6727, 0.4833, 0.1261, 0.0220, 0.3752, 0.0350, 0.7330, 0.2443],\n",
              "         [0.9953, 0.5338, 0.4530, 0.9338, 0.3525, 0.9065, 0.9352, 0.1444],\n",
              "         [0.0500, 0.3006, 0.5561, 0.1893, 0.0834, 0.5672, 0.1019, 0.6317],\n",
              "         [0.8274, 0.9440, 0.3132, 0.6539, 0.6402, 0.4854, 0.8166, 0.2308],\n",
              "         [0.8531, 0.6311, 0.4907, 0.6620, 0.3996, 0.4125, 0.8126, 0.6984],\n",
              "         [0.2880, 0.5121, 0.8207, 0.7867, 0.5676, 0.2210, 0.1005, 0.5955]],\n",
              "\n",
              "        [[0.6503, 0.0977, 0.9228, 0.3337, 0.1285, 0.4163, 0.4589, 0.9107],\n",
              "         [0.4476, 0.9933, 0.0644, 0.4773, 0.2834, 0.0690, 0.1815, 0.1670],\n",
              "         [0.3230, 0.7949, 0.1039, 0.5970, 0.6844, 0.9394, 0.1649, 0.0055],\n",
              "         [0.5630, 0.3848, 0.4955, 0.5564, 0.4883, 0.4652, 0.6640, 0.5642],\n",
              "         [0.1999, 0.8225, 0.2380, 0.8234, 0.7245, 0.4828, 0.5745, 0.8080],\n",
              "         [0.2075, 0.4969, 0.4595, 0.9199, 0.3057, 0.6591, 0.8169, 0.5958]],\n",
              "\n",
              "        [[0.7585, 0.4975, 0.2960, 0.5404, 0.5245, 0.9492, 0.0637, 0.5241],\n",
              "         [0.2031, 0.0741, 0.8500, 0.1314, 0.5944, 0.9870, 0.6500, 0.7861],\n",
              "         [0.9948, 0.2282, 0.8084, 0.7796, 0.6065, 0.3933, 0.9331, 0.0326],\n",
              "         [0.1144, 0.2673, 0.8848, 0.1330, 0.5349, 0.8528, 0.0719, 0.5195],\n",
              "         [0.3586, 0.7015, 0.9521, 0.8161, 0.1017, 0.0080, 0.1309, 0.5419],\n",
              "         [0.7465, 0.4558, 0.2095, 0.1818, 0.2530, 0.5819, 0.1959, 0.3218]]])"
            ]
          },
          "metadata": {},
          "execution_count": 203
        }
      ]
    },
    {
      "cell_type": "code",
      "execution_count": 204,
      "metadata": {
        "colab": {
          "base_uri": "https://localhost:8080/"
        },
        "id": "QCkNnnB8_oIQ",
        "outputId": "38ad4c55-6af7-4a33-d225-58d6c3a70fa9"
      },
      "outputs": [
        {
          "output_type": "stream",
          "name": "stdout",
          "text": [
            "Element at channel 0, row 1, column 2: tensor(0.4530)\n"
          ]
        }
      ],
      "source": [
        "# Access the element at the second row, third column.\n",
        "element = image_tensor[0, 1, 2]\n",
        "print(\"Element at channel 0, row 1, column 2:\", element)"
      ]
    },
    {
      "cell_type": "code",
      "execution_count": 205,
      "metadata": {
        "colab": {
          "base_uri": "https://localhost:8080/"
        },
        "id": "kRwNmnut_oIQ",
        "outputId": "08bd8de2-2a08-4a0c-e196-203f8ad583a7"
      },
      "outputs": [
        {
          "output_type": "stream",
          "name": "stdout",
          "text": [
            "Second row (across all channels):\n",
            "tensor([[0.9953, 0.5338, 0.4530, 0.9338, 0.3525, 0.9065, 0.9352, 0.1444],\n",
            "        [0.4476, 0.9933, 0.0644, 0.4773, 0.2834, 0.0690, 0.1815, 0.1670],\n",
            "        [0.2031, 0.0741, 0.8500, 0.1314, 0.5944, 0.9870, 0.6500, 0.7861]])\n"
          ]
        }
      ],
      "source": [
        "# Print the second row.\n",
        "second_row = image_tensor[:, 1, :]  # This means All channels, row 1, all columns\n",
        "print(\"Second row (across all channels):\")\n",
        "print(second_row)"
      ]
    },
    {
      "cell_type": "code",
      "execution_count": 206,
      "metadata": {
        "colab": {
          "base_uri": "https://localhost:8080/"
        },
        "id": "9J8duzB5_oIQ",
        "outputId": "a578acb8-88cd-438e-fc76-033e629093ae"
      },
      "outputs": [
        {
          "output_type": "stream",
          "name": "stdout",
          "text": [
            "First two columns (across all rows and channels):\n",
            "tensor([[[0.6727, 0.4833],\n",
            "         [0.9953, 0.5338],\n",
            "         [0.0500, 0.3006],\n",
            "         [0.8274, 0.9440],\n",
            "         [0.8531, 0.6311],\n",
            "         [0.2880, 0.5121]],\n",
            "\n",
            "        [[0.6503, 0.0977],\n",
            "         [0.4476, 0.9933],\n",
            "         [0.3230, 0.7949],\n",
            "         [0.5630, 0.3848],\n",
            "         [0.1999, 0.8225],\n",
            "         [0.2075, 0.4969]],\n",
            "\n",
            "        [[0.7585, 0.4975],\n",
            "         [0.2031, 0.0741],\n",
            "         [0.9948, 0.2282],\n",
            "         [0.1144, 0.2673],\n",
            "         [0.3586, 0.7015],\n",
            "         [0.7465, 0.4558]]])\n"
          ]
        }
      ],
      "source": [
        "# Print the first two columns.\n",
        "first_two_columns = image_tensor[:, :, :2]  # This means All channels, all rows, first 2 columns\n",
        "print(\"First two columns (across all rows and channels):\")\n",
        "print(first_two_columns)"
      ]
    },
    {
      "cell_type": "markdown",
      "metadata": {
        "id": "piZEIKjo_oIQ"
      },
      "source": [
        "# 3. Tensor Arithmetic Operations"
      ]
    },
    {
      "cell_type": "code",
      "execution_count": 207,
      "metadata": {
        "colab": {
          "base_uri": "https://localhost:8080/"
        },
        "id": "hRjK8pH__oIQ",
        "outputId": "d27d442f-33d8-480e-f651-d4b7ea65a91a"
      },
      "outputs": [
        {
          "output_type": "stream",
          "name": "stdout",
          "text": [
            "tensor a:\n",
            "tensor([[0.6096, 0.3445, 0.2852],\n",
            "        [0.3863, 0.2040, 0.0291],\n",
            "        [0.2330, 0.7021, 0.4459]])\n",
            "\n",
            "\n",
            "tensor b:\n",
            "tensor([[0.2581, 0.4061, 0.5449],\n",
            "        [0.8514, 0.9207, 0.4458],\n",
            "        [0.6586, 0.2245, 0.7075]])\n"
          ]
        }
      ],
      "source": [
        "# Create two tensors tensor_a and tensor_b of shape (3, 3) with random values.\n",
        "tensor_a = torch.rand(3, 3)\n",
        "tensor_b = torch.rand(3, 3)\n",
        "\n",
        "print(\"tensor a:\")\n",
        "print(tensor_a)\n",
        "\n",
        "print(\"\\n\")\n",
        "\n",
        "print(\"tensor b:\")\n",
        "print(tensor_b)"
      ]
    },
    {
      "cell_type": "code",
      "execution_count": 208,
      "metadata": {
        "colab": {
          "base_uri": "https://localhost:8080/"
        },
        "id": "GWwjWvxu_oIQ",
        "outputId": "0d600d25-343e-4e5c-e481-133cd41b3c65"
      },
      "outputs": [
        {
          "output_type": "stream",
          "name": "stdout",
          "text": [
            "\n",
            "Element-wise addition result:\n",
            "tensor([[0.8677, 0.7506, 0.8301],\n",
            "        [1.2377, 1.1247, 0.4749],\n",
            "        [0.8916, 0.9266, 1.1535]])\n"
          ]
        }
      ],
      "source": [
        "# Perform element-wise addition.\n",
        "result = tensor_a + tensor_b\n",
        "\n",
        "print(\"\\nElement-wise addition result:\")\n",
        "print(result)"
      ]
    },
    {
      "cell_type": "code",
      "execution_count": 209,
      "metadata": {
        "colab": {
          "base_uri": "https://localhost:8080/"
        },
        "id": "RPcX3tId_oIR",
        "outputId": "5f312e67-71ee-4dbe-963a-7cda76c5c628"
      },
      "outputs": [
        {
          "output_type": "stream",
          "name": "stdout",
          "text": [
            "\n",
            "Element-wise multiplication result:\n",
            "tensor([[0.1574, 0.1399, 0.1554],\n",
            "        [0.3289, 0.1879, 0.0130],\n",
            "        [0.1534, 0.1576, 0.3155]])\n"
          ]
        }
      ],
      "source": [
        "# Perform element-wise multiplication.\n",
        "result = tensor_a * tensor_b\n",
        "\n",
        "print(\"\\nElement-wise multiplication result:\")\n",
        "print(result)"
      ]
    },
    {
      "cell_type": "code",
      "execution_count": 210,
      "metadata": {
        "colab": {
          "base_uri": "https://localhost:8080/"
        },
        "id": "37rJUozJ_oIR",
        "outputId": "af14f7a9-58aa-496c-f555-b8f72eefe170"
      },
      "outputs": [
        {
          "output_type": "stream",
          "name": "stdout",
          "text": [
            "\n",
            "Result of tensor_a - tensor_b:\n",
            "tensor([[ 0.3515, -0.0616, -0.2596],\n",
            "        [-0.4651, -0.7167, -0.4167],\n",
            "        [-0.4256,  0.4775, -0.2616]])\n"
          ]
        }
      ],
      "source": [
        "# Subtract tensor_b from tensor_a.\n",
        "result = tensor_a - tensor_b\n",
        "\n",
        "print(\"\\nResult of tensor_a - tensor_b:\")\n",
        "print(result)"
      ]
    },
    {
      "cell_type": "markdown",
      "metadata": {
        "id": "QQ1Ndt5k_oIR"
      },
      "source": [
        "# 4. Tensor Aggregation Operations"
      ]
    },
    {
      "cell_type": "code",
      "execution_count": 211,
      "metadata": {
        "colab": {
          "base_uri": "https://localhost:8080/"
        },
        "id": "wlQxxKn8_oIR",
        "outputId": "4c0e9863-1459-4b34-b563-792c5543138f"
      },
      "outputs": [
        {
          "output_type": "stream",
          "name": "stdout",
          "text": [
            "Tensor of shape (3, 3) with values from 1 to 9:\n",
            "tensor([[1, 2, 3],\n",
            "        [4, 5, 6],\n",
            "        [7, 8, 9]])\n"
          ]
        }
      ],
      "source": [
        "# Create a tensor tensor of shape (3, 3) with values ranging from 1 to 9.\n",
        "# Create a 1D tensor with values from 1 to 9 (inclusive)\n",
        "values = torch.arange(1, 10)\n",
        "\n",
        "# Reshape it to (3, 3)\n",
        "tensor = values.reshape(3, 3)\n",
        "\n",
        "print(\"Tensor of shape (3, 3) with values from 1 to 9:\")\n",
        "print(tensor)"
      ]
    },
    {
      "cell_type": "code",
      "execution_count": 212,
      "metadata": {
        "colab": {
          "base_uri": "https://localhost:8080/"
        },
        "id": "7eoNDZuP_oIR",
        "outputId": "7891200c-acc3-4466-f6d1-37b907bb6442"
      },
      "outputs": [
        {
          "output_type": "stream",
          "name": "stdout",
          "text": [
            "\n",
            "Sum of all elements: 45\n"
          ]
        }
      ],
      "source": [
        "# Compute the sum of all elements.\n",
        "total_sum = tensor.sum()\n",
        "\n",
        "print(\"\\nSum of all elements:\", total_sum.item())"
      ]
    },
    {
      "cell_type": "code",
      "execution_count": 242,
      "metadata": {
        "colab": {
          "base_uri": "https://localhost:8080/"
        },
        "id": "Lde797CY_oIR",
        "outputId": "46c99bc1-62dc-4853-dd26-5748f52481ac"
      },
      "outputs": [
        {
          "output_type": "stream",
          "name": "stdout",
          "text": [
            "\n",
            "Mean of all elements: 5.0\n"
          ]
        }
      ],
      "source": [
        "# Compute the mean of all elements.\n",
        "tensor = torch.arange(1, 10).reshape(3, 3).float()  # convert to float for mean\n",
        "\n",
        "mean_value = tensor.mean()\n",
        "\n",
        "print(\"\\nMean of all elements:\", mean_value.item())"
      ]
    },
    {
      "cell_type": "code",
      "execution_count": 243,
      "metadata": {
        "colab": {
          "base_uri": "https://localhost:8080/"
        },
        "id": "HsQaaSAm_oIR",
        "outputId": "cd8c436b-8735-474d-d738-37f2f6b65f53"
      },
      "outputs": [
        {
          "output_type": "stream",
          "name": "stdout",
          "text": [
            "\n",
            "Maximum value: 9\n",
            "Minimum value: 1\n"
          ]
        }
      ],
      "source": [
        "# Find the maximum and minimum values.\n",
        "tensor = torch.arange(1, 10).reshape(3, 3)\n",
        "\n",
        "# Find maximum and minimum values\n",
        "max_value = tensor.max()\n",
        "min_value = tensor.min()\n",
        "\n",
        "print(\"\\nMaximum value:\", max_value.item())\n",
        "print(\"Minimum value:\", min_value.item())"
      ]
    },
    {
      "cell_type": "code",
      "execution_count": 244,
      "metadata": {
        "colab": {
          "base_uri": "https://localhost:8080/"
        },
        "id": "6TfWdojV_oIR",
        "outputId": "d365e17e-e659-420e-f58a-2bb3c1c65f28"
      },
      "outputs": [
        {
          "output_type": "stream",
          "name": "stdout",
          "text": [
            "\n",
            "Sum along the rows:\n",
            "tensor([ 6, 15, 24])\n"
          ]
        }
      ],
      "source": [
        "# Compute the sum along the rows.\n",
        "row_sums = tensor.sum(dim=1)\n",
        "\n",
        "print(\"\\nSum along the rows:\")\n",
        "print(row_sums)"
      ]
    },
    {
      "cell_type": "code",
      "execution_count": 247,
      "metadata": {
        "colab": {
          "base_uri": "https://localhost:8080/"
        },
        "id": "RAW9fxwn_oIR",
        "outputId": "76618417-41e1-4637-99b3-cec7a776b408"
      },
      "outputs": [
        {
          "output_type": "stream",
          "name": "stdout",
          "text": [
            "\n",
            "Mean along the columns:\n",
            "tensor([4., 5., 6.])\n"
          ]
        }
      ],
      "source": [
        "# Create the tensor with values 1 to 9 and convert to float\n",
        "tensor = torch.arange(1, 10).reshape(3, 3).float()\n",
        "\n",
        "# Compute the mean along the columns.\n",
        "column_means = tensor.mean(dim=0)\n",
        "\n",
        "print(\"\\nMean along the columns:\")\n",
        "print(column_means)"
      ]
    },
    {
      "cell_type": "markdown",
      "metadata": {
        "id": "3mYLie6L_oIR"
      },
      "source": [
        "# 5. Tensor Reshaping Operations"
      ]
    },
    {
      "cell_type": "code",
      "execution_count": 248,
      "metadata": {
        "colab": {
          "base_uri": "https://localhost:8080/"
        },
        "id": "19pt6_9m_oIR",
        "outputId": "3ceccb6b-1e83-42ba-fa2b-b6f1570764ec"
      },
      "outputs": [
        {
          "output_type": "stream",
          "name": "stdout",
          "text": [
            "Tensor of shape (2, 3, 4) with random values:\n",
            "tensor([[[0.2551, 0.5219, 0.5675, 0.7354],\n",
            "         [0.1101, 0.5475, 0.4668, 0.7883],\n",
            "         [0.7017, 0.7592, 0.8416, 0.2262]],\n",
            "\n",
            "        [[0.6901, 0.6339, 0.4234, 0.1055],\n",
            "         [0.9536, 0.6047, 0.6131, 0.1127],\n",
            "         [0.8415, 0.0488, 0.5388, 0.5572]]])\n"
          ]
        }
      ],
      "source": [
        "# Create a tensor tensor of shape (2, 3, 4) with random values.\n",
        "tensor = torch.rand(2, 3, 4)\n",
        "\n",
        "print(\"Tensor of shape (2, 3, 4) with random values:\")\n",
        "print(tensor)"
      ]
    },
    {
      "cell_type": "code",
      "execution_count": 249,
      "metadata": {
        "colab": {
          "base_uri": "https://localhost:8080/"
        },
        "id": "64K3JjnQ_oIR",
        "outputId": "2116c47f-cf3c-4bb4-ac79-3546ed87ba87"
      },
      "outputs": [
        {
          "output_type": "stream",
          "name": "stdout",
          "text": [
            "Original tensor shape: torch.Size([2, 3, 4])\n",
            "Reshaped tensor shape: torch.Size([4, 6])\n",
            "\n",
            "Reshaped Tensor:\n",
            "tensor([[0.2551, 0.5219, 0.5675, 0.7354, 0.1101, 0.5475],\n",
            "        [0.4668, 0.7883, 0.7017, 0.7592, 0.8416, 0.2262],\n",
            "        [0.6901, 0.6339, 0.4234, 0.1055, 0.9536, 0.6047],\n",
            "        [0.6131, 0.1127, 0.8415, 0.0488, 0.5388, 0.5572]])\n"
          ]
        }
      ],
      "source": [
        "# Reshape the tensor to (4, 6).\n",
        "reshaped_tensor = tensor.reshape(4, 6)\n",
        "\n",
        "print(\"Original tensor shape:\", tensor.shape)\n",
        "print(\"Reshaped tensor shape:\", reshaped_tensor.shape)\n",
        "print(\"\\nReshaped Tensor:\")\n",
        "print(reshaped_tensor)"
      ]
    },
    {
      "cell_type": "code",
      "execution_count": 250,
      "metadata": {
        "colab": {
          "base_uri": "https://localhost:8080/"
        },
        "id": "2wMAad1Q_oIR",
        "outputId": "1fd0ab3f-81ba-4598-ae65-a13c279c9427"
      },
      "outputs": [
        {
          "output_type": "stream",
          "name": "stdout",
          "text": [
            "Original shape: torch.Size([2, 3, 4])\n",
            "Transposed shape: torch.Size([3, 2, 4])\n",
            "\n",
            "Transposed Tensor:\n",
            "tensor([[[0.2551, 0.5219, 0.5675, 0.7354],\n",
            "         [0.6901, 0.6339, 0.4234, 0.1055]],\n",
            "\n",
            "        [[0.1101, 0.5475, 0.4668, 0.7883],\n",
            "         [0.9536, 0.6047, 0.6131, 0.1127]],\n",
            "\n",
            "        [[0.7017, 0.7592, 0.8416, 0.2262],\n",
            "         [0.8415, 0.0488, 0.5388, 0.5572]]])\n"
          ]
        }
      ],
      "source": [
        "# Transpose the tensor (swap the first and second dimensions).\n",
        "transposed_tensor = tensor.transpose(0, 1)\n",
        "\n",
        "print(\"Original shape:\", tensor.shape)\n",
        "print(\"Transposed shape:\", transposed_tensor.shape)\n",
        "print(\"\\nTransposed Tensor:\")\n",
        "print(transposed_tensor)"
      ]
    },
    {
      "cell_type": "code",
      "execution_count": 251,
      "metadata": {
        "colab": {
          "base_uri": "https://localhost:8080/"
        },
        "id": "Q6aMdw4C_oIR",
        "outputId": "c062f288-7e69-4fc6-bc9d-518454be32c1"
      },
      "outputs": [
        {
          "output_type": "stream",
          "name": "stdout",
          "text": [
            "Original shape: torch.Size([2, 3, 4])\n",
            "Flattened shape: torch.Size([24])\n",
            "\n",
            "Flattened Tensor:\n",
            "tensor([0.2551, 0.5219, 0.5675, 0.7354, 0.1101, 0.5475, 0.4668, 0.7883, 0.7017,\n",
            "        0.7592, 0.8416, 0.2262, 0.6901, 0.6339, 0.4234, 0.1055, 0.9536, 0.6047,\n",
            "        0.6131, 0.1127, 0.8415, 0.0488, 0.5388, 0.5572])\n"
          ]
        }
      ],
      "source": [
        "# Flatten the tensor to a 1D tensor.\n",
        "flattened_tensor = tensor.view(-1)\n",
        "\n",
        "print(\"Original shape:\", tensor.shape)\n",
        "print(\"Flattened shape:\", flattened_tensor.shape)\n",
        "print(\"\\nFlattened Tensor:\")\n",
        "print(flattened_tensor)"
      ]
    },
    {
      "cell_type": "markdown",
      "metadata": {
        "id": "ZG3TTe1G_oIR"
      },
      "source": [
        "# 6. Tensor Broadcasting"
      ]
    },
    {
      "cell_type": "code",
      "execution_count": 252,
      "metadata": {
        "colab": {
          "base_uri": "https://localhost:8080/"
        },
        "id": "VuMy9svO_oIR",
        "outputId": "89986fdb-5bad-4185-a85a-e626c7c94ac4"
      },
      "outputs": [
        {
          "output_type": "stream",
          "name": "stdout",
          "text": [
            "tensor_a:\n",
            "tensor([[1, 2, 3],\n",
            "        [4, 5, 6]])\n"
          ]
        }
      ],
      "source": [
        "# Create a tensor tensor_a of shape (2, 3) with values ranging from 1 to 6.\n",
        "tensor_a = torch.arange(1, 7).reshape(2, 3)\n",
        "\n",
        "print(\"tensor_a:\")\n",
        "print(tensor_a)"
      ]
    },
    {
      "cell_type": "code",
      "execution_count": 253,
      "metadata": {
        "colab": {
          "base_uri": "https://localhost:8080/"
        },
        "id": "oEadc1NT_oIS",
        "outputId": "2fe55eb0-15f0-4ce1-c703-26812c747d9d"
      },
      "outputs": [
        {
          "output_type": "stream",
          "name": "stdout",
          "text": [
            "tensor_b:\n",
            "tensor([[1, 2, 3]])\n",
            "Shape: torch.Size([1, 3])\n"
          ]
        }
      ],
      "source": [
        "# Create a tensor tensor_b of shape (1, 3) with values [1, 2, 3].\n",
        "tensor_b = torch.tensor([[1, 2, 3]])\n",
        "\n",
        "print(\"tensor_b:\")\n",
        "print(tensor_b)\n",
        "print(\"Shape:\", tensor_b.shape)"
      ]
    },
    {
      "cell_type": "code",
      "execution_count": 255,
      "metadata": {
        "colab": {
          "base_uri": "https://localhost:8080/"
        },
        "id": "lTisv_AW_oIS",
        "outputId": "07349bb8-b319-4221-fa41-5d5e4eb14972"
      },
      "outputs": [
        {
          "output_type": "stream",
          "name": "stdout",
          "text": [
            "\n",
            "Result of broadcasting addition:\n",
            "tensor([[2, 4, 6],\n",
            "        [5, 7, 9]])\n"
          ]
        }
      ],
      "source": [
        "# Perform broadcasting addition.\n",
        "result = tensor_a + tensor_b\n",
        "\n",
        "print(\"\\nResult of broadcasting addition:\")\n",
        "print(result)"
      ]
    },
    {
      "cell_type": "code",
      "execution_count": 256,
      "metadata": {
        "colab": {
          "base_uri": "https://localhost:8080/"
        },
        "id": "nd00hpQe_oIS",
        "outputId": "efb0f74e-4062-41e4-8dbc-7a7e2680bcab"
      },
      "outputs": [
        {
          "output_type": "stream",
          "name": "stdout",
          "text": [
            "tensor_c:\n",
            "tensor([[1],\n",
            "        [2],\n",
            "        [3]])\n",
            "Shape: torch.Size([3, 1])\n"
          ]
        }
      ],
      "source": [
        "# Create a tensor tensor_c of shape (3, 1) with values [1, 2, 3].\n",
        "tensor_c = torch.tensor([[1], [2], [3]])\n",
        "\n",
        "print(\"tensor_c:\")\n",
        "print(tensor_c)\n",
        "print(\"Shape:\", tensor_c.shape)"
      ]
    },
    {
      "cell_type": "code",
      "execution_count": 259,
      "metadata": {
        "colab": {
          "base_uri": "https://localhost:8080/"
        },
        "id": "4XeFlpHA_oIS",
        "outputId": "c5d63669-9976-4178-bcfa-640ffa7d6276"
      },
      "outputs": [
        {
          "output_type": "stream",
          "name": "stdout",
          "text": [
            "tensor_a:\n",
            "tensor([[1, 2, 3],\n",
            "        [4, 5, 6]])\n",
            "\n",
            "tensor_c.T:\n",
            "tensor([[1, 2, 3]])\n",
            "\n",
            "Broadcasting multiplication result:\n",
            "tensor([[ 1,  4,  9],\n",
            "        [ 4, 10, 18]])\n"
          ]
        }
      ],
      "source": [
        "# Perform broadcasting multiplication.\n",
        "# Shapes are not directly broadcastable because broadcasting compares dimensions from the right side. So transpose tensor_c to (1,3)\n",
        "tensor_c_T = tensor_c.T\n",
        "\n",
        "result = tensor_a * tensor_c_T\n",
        "\n",
        "print(\"tensor_a:\")\n",
        "print(tensor_a)\n",
        "\n",
        "print(\"\\ntensor_c.T:\")\n",
        "print(tensor_c_T)\n",
        "\n",
        "print(\"\\nBroadcasting multiplication result:\")\n",
        "print(result)"
      ]
    },
    {
      "cell_type": "markdown",
      "metadata": {
        "id": "Z7KhuqnK_oIS"
      },
      "source": [
        "# 7. Tensor Device Management"
      ]
    },
    {
      "cell_type": "code",
      "execution_count": 226,
      "metadata": {
        "id": "4Qg4YK0q_oIS"
      },
      "outputs": [],
      "source": [
        "# Create a tensor of shape (3, 3) with random values and move it to GPU (if available)."
      ]
    },
    {
      "cell_type": "code",
      "execution_count": 227,
      "metadata": {
        "id": "XOf1RDzi_oIS"
      },
      "outputs": [],
      "source": [
        "# Verify if the tensor is on GPU.\n",
        "# Move the tensor back to CPU."
      ]
    },
    {
      "cell_type": "markdown",
      "metadata": {
        "id": "3ckIXQr1_oIS"
      },
      "source": [
        "# 8. Tensor Cloning and Detaching"
      ]
    },
    {
      "cell_type": "code",
      "execution_count": 228,
      "metadata": {
        "id": "XOGAB9F4_oIW"
      },
      "outputs": [],
      "source": [
        "# Create a tensor tensor of shape (3,) with values [1, 2, 3] and set requires_grad=True."
      ]
    },
    {
      "cell_type": "code",
      "execution_count": 229,
      "metadata": {
        "id": "maEl7saJ_oIX"
      },
      "outputs": [],
      "source": [
        "# Clone the tensor and print the cloned tensor."
      ]
    },
    {
      "cell_type": "code",
      "execution_count": 230,
      "metadata": {
        "id": "lWDpHRfF_oIX"
      },
      "outputs": [],
      "source": [
        "# Detach the tensor from the computation graph and print the detached tensor."
      ]
    },
    {
      "cell_type": "markdown",
      "metadata": {
        "id": "aVJAQob2_oIX"
      },
      "source": [
        "# 9. High Dimensional Tensors"
      ]
    },
    {
      "cell_type": "code",
      "execution_count": 231,
      "metadata": {
        "id": "tekHyDtQ_oIX"
      },
      "outputs": [],
      "source": [
        "# Create a 4D tensor tensor of shape (2, 3, 4, 5) with random values."
      ]
    },
    {
      "cell_type": "code",
      "execution_count": 232,
      "metadata": {
        "id": "xQ7qrz8L_oIX"
      },
      "outputs": [],
      "source": [
        "# Print the shape of the tensor."
      ]
    },
    {
      "cell_type": "code",
      "execution_count": 233,
      "metadata": {
        "id": "yeIh8vMq_oIX"
      },
      "outputs": [],
      "source": [
        "# Access the element at position (1, 2, 3, 4)."
      ]
    },
    {
      "cell_type": "code",
      "execution_count": 234,
      "metadata": {
        "id": "vSuDjS2k_oIX"
      },
      "outputs": [],
      "source": [
        "# Slice and print the first two elements along the first dimension."
      ]
    },
    {
      "cell_type": "code",
      "execution_count": 235,
      "metadata": {
        "id": "XTQZ50UC_oIX"
      },
      "outputs": [],
      "source": [
        "# Sum all elements in the tensor."
      ]
    },
    {
      "cell_type": "code",
      "execution_count": 236,
      "metadata": {
        "id": "vAvikgp__oIX"
      },
      "outputs": [],
      "source": [
        "# Compute the mean along the third dimension."
      ]
    },
    {
      "cell_type": "markdown",
      "metadata": {
        "id": "wpxLYuqP_oIX"
      },
      "source": [
        "# 10. Combining Tensor Operations"
      ]
    },
    {
      "cell_type": "code",
      "execution_count": 237,
      "metadata": {
        "id": "JhFzyqHE_oIY"
      },
      "outputs": [],
      "source": [
        "# Create two tensors tensor_a and tensor_b of shape (2, 3, 4) with random values."
      ]
    },
    {
      "cell_type": "code",
      "execution_count": 238,
      "metadata": {
        "id": "33aP1ma3_oIY"
      },
      "outputs": [],
      "source": [
        "# Add the two tensors."
      ]
    },
    {
      "cell_type": "code",
      "execution_count": 239,
      "metadata": {
        "id": "z37WR9j0_oIZ"
      },
      "outputs": [],
      "source": [
        "# Multiply the resulting tensor by 2."
      ]
    },
    {
      "cell_type": "code",
      "execution_count": 240,
      "metadata": {
        "id": "ksLT7D6Q_oIZ"
      },
      "outputs": [],
      "source": [
        "# Reshape the tensor to (4, 6)."
      ]
    },
    {
      "cell_type": "code",
      "execution_count": 241,
      "metadata": {
        "id": "EVkzBiXd_oIZ"
      },
      "outputs": [],
      "source": [
        "# Compute the sum along the columns."
      ]
    },
    {
      "cell_type": "markdown",
      "metadata": {
        "id": "znHrRafA_oIZ"
      },
      "source": [
        "-------------------------------------------- END ----------------------------------------------"
      ]
    }
  ],
  "metadata": {
    "kernelspec": {
      "display_name": "pytorch_env",
      "language": "python",
      "name": "python3"
    },
    "language_info": {
      "codemirror_mode": {
        "name": "ipython",
        "version": 3
      },
      "file_extension": ".py",
      "mimetype": "text/x-python",
      "name": "python",
      "nbconvert_exporter": "python",
      "pygments_lexer": "ipython3",
      "version": "3.10.14"
    },
    "colab": {
      "provenance": []
    }
  },
  "nbformat": 4,
  "nbformat_minor": 0
}