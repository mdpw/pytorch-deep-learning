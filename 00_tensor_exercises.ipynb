{
  "cells": [
    {
      "cell_type": "code",
      "execution_count": 13,
      "metadata": {
        "id": "PjGfJ7MN_oIN"
      },
      "outputs": [],
      "source": [
        "# M.D.P. Wijesuriya\n",
        "# 18-7-2025"
      ]
    },
    {
      "cell_type": "markdown",
      "metadata": {
        "id": "qGWxcXX7_oIO"
      },
      "source": [
        "# Tensor Exercises"
      ]
    },
    {
      "cell_type": "code",
      "source": [
        "import torch"
      ],
      "metadata": {
        "id": "1qxjaWNr6mBG"
      },
      "execution_count": 14,
      "outputs": []
    },
    {
      "cell_type": "markdown",
      "metadata": {
        "id": "X8lZFGRW_oIP"
      },
      "source": [
        "# 1. Tensor Creation"
      ]
    },
    {
      "cell_type": "code",
      "execution_count": 15,
      "metadata": {
        "colab": {
          "base_uri": "https://localhost:8080/"
        },
        "id": "7m1nuri6_oIP",
        "outputId": "3df366ef-2346-48cf-c907-55f7225b242f"
      },
      "outputs": [
        {
          "output_type": "stream",
          "name": "stdout",
          "text": [
            "Tensor of shape (5, 3):\n",
            "tensor([[0.2939, 0.2915, 0.9782],\n",
            "        [0.6973, 0.0778, 0.7121],\n",
            "        [0.9224, 0.6548, 0.0025],\n",
            "        [0.4825, 0.1414, 0.2840],\n",
            "        [0.1120, 0.1887, 0.0331]])\n"
          ]
        }
      ],
      "source": [
        "# Create a tensor of shape (5, 3) filled with random values.\n",
        "tensor = torch.rand(5, 3)\n",
        "\n",
        "print(\"Tensor of shape (5, 3):\")\n",
        "print(tensor)"
      ]
    },
    {
      "cell_type": "code",
      "execution_count": 16,
      "metadata": {
        "colab": {
          "base_uri": "https://localhost:8080/"
        },
        "id": "DSLRj-nX_oIP",
        "outputId": "6efbf43b-4de6-42d4-c27b-2572ce7ef5bb"
      },
      "outputs": [
        {
          "output_type": "stream",
          "name": "stdout",
          "text": [
            "Tensor of shape (2, 4) filled with ones:\n",
            "tensor([[1., 1., 1., 1.],\n",
            "        [1., 1., 1., 1.]])\n"
          ]
        }
      ],
      "source": [
        "# Create a tensor of shape (2, 4) filled with ones.\n",
        "tensor = torch.ones(2, 4)\n",
        "\n",
        "print(\"Tensor of shape (2, 4) filled with ones:\")\n",
        "print(tensor)"
      ]
    },
    {
      "cell_type": "code",
      "execution_count": 17,
      "metadata": {
        "colab": {
          "base_uri": "https://localhost:8080/"
        },
        "id": "OFTr0x-2_oIP",
        "outputId": "f8f6cfd9-6490-4ecc-9da3-47d1462ccca0"
      },
      "outputs": [
        {
          "output_type": "stream",
          "name": "stdout",
          "text": [
            "Tensor from list:\n",
            "tensor([ 5, 10, 15, 20])\n"
          ]
        }
      ],
      "source": [
        "# Create a tensor from a list [5, 10, 15, 20].\n",
        "tensor = torch.tensor([5, 10, 15, 20])\n",
        "\n",
        "print(\"Tensor from list:\")\n",
        "print(tensor)"
      ]
    },
    {
      "cell_type": "code",
      "execution_count": 18,
      "metadata": {
        "colab": {
          "base_uri": "https://localhost:8080/"
        },
        "id": "YTPeHwCt_oIQ",
        "outputId": "466c4c47-0a15-49d9-a4b6-4e1602e38827"
      },
      "outputs": [
        {
          "output_type": "stream",
          "name": "stdout",
          "text": [
            "Image Tensor shape: torch.Size([3, 6, 8])\n"
          ]
        }
      ],
      "source": [
        "# Create a tensor to represent an image that has width of 8, height of 6, and 3 channels.\n",
        "image_tensor = torch.rand(3, 6, 8)\n",
        "\n",
        "print(\"Image Tensor shape:\", image_tensor.shape)"
      ]
    },
    {
      "cell_type": "markdown",
      "metadata": {
        "id": "8TzUWqGh_oIQ"
      },
      "source": [
        "# 2. Tensor Indexing and Slicing"
      ]
    },
    {
      "cell_type": "code",
      "execution_count": 19,
      "metadata": {
        "colab": {
          "base_uri": "https://localhost:8080/"
        },
        "id": "No2u7qrK_oIQ",
        "outputId": "69902d9d-3522-4223-9e81-589885727a0b"
      },
      "outputs": [
        {
          "output_type": "stream",
          "name": "stdout",
          "text": [
            "Tensor of shape (3, 4) with values from 10 to 21:\n",
            "tensor([[10, 11, 12, 13],\n",
            "        [14, 15, 16, 17],\n",
            "        [18, 19, 20, 21]])\n"
          ]
        }
      ],
      "source": [
        "# Create a tensor tensor of shape (3, 4) with values ranging from 10 to 22.\n",
        "# Create a 1D tensor with values from 10 to 21 (22 is exclusive)\n",
        "values = torch.arange(10, 22)\n",
        "\n",
        "# Reshape it to (3, 4)\n",
        "tensor = values.reshape(3, 4)\n",
        "\n",
        "print(\"Tensor of shape (3, 4) with values from 10 to 21:\")\n",
        "print(tensor)"
      ]
    },
    {
      "cell_type": "code",
      "source": [
        "image_tensor"
      ],
      "metadata": {
        "colab": {
          "base_uri": "https://localhost:8080/"
        },
        "id": "xahsBWWG8Fqh",
        "outputId": "56911145-06f3-4086-8a7f-0b86d8d504ed"
      },
      "execution_count": 20,
      "outputs": [
        {
          "output_type": "execute_result",
          "data": {
            "text/plain": [
              "tensor([[[0.9062, 0.4181, 0.9499, 0.6389, 0.7690, 0.4606, 0.5720, 0.2200],\n",
              "         [0.1663, 0.0093, 0.2394, 0.7815, 0.7676, 0.1431, 0.5942, 0.9651],\n",
              "         [0.1312, 0.6596, 0.3926, 0.7909, 0.6088, 0.9058, 0.8358, 0.5060],\n",
              "         [0.2992, 0.9759, 0.9804, 0.7028, 0.3534, 0.3440, 0.4070, 0.2401],\n",
              "         [0.5375, 0.0645, 0.4732, 0.6911, 0.6302, 0.8493, 0.6332, 0.6298],\n",
              "         [0.3412, 0.5490, 0.9581, 0.0172, 0.1012, 0.1853, 0.2146, 0.0999]],\n",
              "\n",
              "        [[0.5264, 0.5817, 0.9590, 0.5436, 0.0826, 0.9782, 0.1353, 0.3647],\n",
              "         [0.5615, 0.4168, 0.4895, 0.4496, 0.1106, 0.6138, 0.3980, 0.9659],\n",
              "         [0.7415, 0.0705, 0.6208, 0.0324, 0.1053, 0.7073, 0.4817, 0.0558],\n",
              "         [0.7050, 0.1671, 0.4459, 0.6229, 0.8388, 0.3346, 0.3330, 0.5860],\n",
              "         [0.0912, 0.0979, 0.4656, 0.5937, 0.7320, 0.2561, 0.9247, 0.3012],\n",
              "         [0.1657, 0.7032, 0.0742, 0.9990, 0.7778, 0.4600, 0.7679, 0.9287]],\n",
              "\n",
              "        [[0.0281, 0.8931, 0.5169, 0.4787, 0.5419, 0.0813, 0.5849, 0.5080],\n",
              "         [0.1271, 0.7593, 0.6312, 0.3739, 0.1961, 0.4741, 0.2309, 0.5768],\n",
              "         [0.1229, 0.1185, 0.1641, 0.3270, 0.7531, 0.9601, 0.9532, 0.0823],\n",
              "         [0.2202, 0.4401, 0.2846, 0.6473, 0.1119, 0.7151, 0.5823, 0.0553],\n",
              "         [0.8611, 0.4975, 0.7227, 0.4179, 0.9189, 0.5567, 0.1230, 0.6567],\n",
              "         [0.5595, 0.7001, 0.1769, 0.3628, 0.9525, 0.4313, 0.0171, 0.7081]]])"
            ]
          },
          "metadata": {},
          "execution_count": 20
        }
      ]
    },
    {
      "cell_type": "code",
      "execution_count": 21,
      "metadata": {
        "colab": {
          "base_uri": "https://localhost:8080/"
        },
        "id": "QCkNnnB8_oIQ",
        "outputId": "cecd7de0-10fb-45ab-90ad-57365be62033"
      },
      "outputs": [
        {
          "output_type": "stream",
          "name": "stdout",
          "text": [
            "Element at channel 0, row 1, column 2: tensor(0.2394)\n"
          ]
        }
      ],
      "source": [
        "# Access the element at the second row, third column.\n",
        "element = image_tensor[0, 1, 2]\n",
        "print(\"Element at channel 0, row 1, column 2:\", element)"
      ]
    },
    {
      "cell_type": "code",
      "execution_count": 22,
      "metadata": {
        "colab": {
          "base_uri": "https://localhost:8080/"
        },
        "id": "kRwNmnut_oIQ",
        "outputId": "2a5bc9a8-abd1-4681-b77c-ea25879fdef2"
      },
      "outputs": [
        {
          "output_type": "stream",
          "name": "stdout",
          "text": [
            "Second row (across all channels):\n",
            "tensor([[0.1663, 0.0093, 0.2394, 0.7815, 0.7676, 0.1431, 0.5942, 0.9651],\n",
            "        [0.5615, 0.4168, 0.4895, 0.4496, 0.1106, 0.6138, 0.3980, 0.9659],\n",
            "        [0.1271, 0.7593, 0.6312, 0.3739, 0.1961, 0.4741, 0.2309, 0.5768]])\n"
          ]
        }
      ],
      "source": [
        "# Print the second row.\n",
        "second_row = image_tensor[:, 1, :]  # This means All channels, row 1, all columns\n",
        "print(\"Second row (across all channels):\")\n",
        "print(second_row)"
      ]
    },
    {
      "cell_type": "code",
      "execution_count": 23,
      "metadata": {
        "colab": {
          "base_uri": "https://localhost:8080/"
        },
        "id": "9J8duzB5_oIQ",
        "outputId": "e36ae5e6-e02d-4796-f6d8-7fd61b845221"
      },
      "outputs": [
        {
          "output_type": "stream",
          "name": "stdout",
          "text": [
            "First two columns (across all rows and channels):\n",
            "tensor([[[0.9062, 0.4181],\n",
            "         [0.1663, 0.0093],\n",
            "         [0.1312, 0.6596],\n",
            "         [0.2992, 0.9759],\n",
            "         [0.5375, 0.0645],\n",
            "         [0.3412, 0.5490]],\n",
            "\n",
            "        [[0.5264, 0.5817],\n",
            "         [0.5615, 0.4168],\n",
            "         [0.7415, 0.0705],\n",
            "         [0.7050, 0.1671],\n",
            "         [0.0912, 0.0979],\n",
            "         [0.1657, 0.7032]],\n",
            "\n",
            "        [[0.0281, 0.8931],\n",
            "         [0.1271, 0.7593],\n",
            "         [0.1229, 0.1185],\n",
            "         [0.2202, 0.4401],\n",
            "         [0.8611, 0.4975],\n",
            "         [0.5595, 0.7001]]])\n"
          ]
        }
      ],
      "source": [
        "# Print the first two columns.\n",
        "first_two_columns = image_tensor[:, :, :2]  # This means All channels, all rows, first 2 columns\n",
        "print(\"First two columns (across all rows and channels):\")\n",
        "print(first_two_columns)"
      ]
    },
    {
      "cell_type": "markdown",
      "metadata": {
        "id": "piZEIKjo_oIQ"
      },
      "source": [
        "# 3. Tensor Arithmetic Operations"
      ]
    },
    {
      "cell_type": "code",
      "execution_count": 24,
      "metadata": {
        "colab": {
          "base_uri": "https://localhost:8080/"
        },
        "id": "hRjK8pH__oIQ",
        "outputId": "102f6b4b-b870-40a8-e21e-acdbfaf4f39c"
      },
      "outputs": [
        {
          "output_type": "stream",
          "name": "stdout",
          "text": [
            "Tensor A:\n",
            "tensor([[0.7948, 0.6802, 0.8606],\n",
            "        [0.9089, 0.8481, 0.4059],\n",
            "        [0.3656, 0.1895, 0.7250]])\n",
            "\n",
            "\n",
            "\n",
            "Tensor B:\n",
            "tensor([[0.0403, 0.7547, 0.4321],\n",
            "        [0.9625, 0.0337, 0.5705],\n",
            "        [0.6830, 0.5269, 0.2526]])\n"
          ]
        }
      ],
      "source": [
        "# Create two tensors tensor_a and tensor_b of shape (3, 3) with random values.\n",
        "tensor_a = torch.rand(3, 3)\n",
        "tensor_b = torch.rand(3, 3)\n",
        "\n",
        "print(\"Tensor A:\")\n",
        "print(tensor_a)\n",
        "\n",
        "print(\"\\n\")\n",
        "\n",
        "print(\"\\nTensor B:\")\n",
        "print(tensor_b)"
      ]
    },
    {
      "cell_type": "code",
      "execution_count": 25,
      "metadata": {
        "id": "GWwjWvxu_oIQ"
      },
      "outputs": [],
      "source": [
        "# Perform element-wise addition."
      ]
    },
    {
      "cell_type": "code",
      "execution_count": 26,
      "metadata": {
        "id": "RPcX3tId_oIR"
      },
      "outputs": [],
      "source": [
        "# Perform element-wise multiplication."
      ]
    },
    {
      "cell_type": "code",
      "execution_count": 27,
      "metadata": {
        "id": "37rJUozJ_oIR"
      },
      "outputs": [],
      "source": [
        "# Subtract tensor_b from tensor_a."
      ]
    },
    {
      "cell_type": "markdown",
      "metadata": {
        "id": "QQ1Ndt5k_oIR"
      },
      "source": [
        "# 4. Tensor Aggregation Operations"
      ]
    },
    {
      "cell_type": "code",
      "execution_count": 28,
      "metadata": {
        "id": "wlQxxKn8_oIR"
      },
      "outputs": [],
      "source": [
        "# Create a tensor tensor of shape (3, 3) with values ranging from 1 to 9."
      ]
    },
    {
      "cell_type": "code",
      "execution_count": 29,
      "metadata": {
        "id": "7eoNDZuP_oIR"
      },
      "outputs": [],
      "source": [
        "# Compute the sum of all elements."
      ]
    },
    {
      "cell_type": "code",
      "execution_count": 30,
      "metadata": {
        "id": "Lde797CY_oIR"
      },
      "outputs": [],
      "source": [
        "# Compute the mean of all elements."
      ]
    },
    {
      "cell_type": "code",
      "execution_count": 31,
      "metadata": {
        "id": "HsQaaSAm_oIR"
      },
      "outputs": [],
      "source": [
        "# Find the maximum and minimum values."
      ]
    },
    {
      "cell_type": "code",
      "execution_count": 32,
      "metadata": {
        "id": "6TfWdojV_oIR"
      },
      "outputs": [],
      "source": [
        "# Compute the sum along the rows."
      ]
    },
    {
      "cell_type": "code",
      "execution_count": 33,
      "metadata": {
        "id": "RAW9fxwn_oIR"
      },
      "outputs": [],
      "source": [
        "# Compute the mean along the columns."
      ]
    },
    {
      "cell_type": "markdown",
      "metadata": {
        "id": "3mYLie6L_oIR"
      },
      "source": [
        "# 5. Tensor Reshaping Operations"
      ]
    },
    {
      "cell_type": "code",
      "execution_count": 34,
      "metadata": {
        "id": "19pt6_9m_oIR"
      },
      "outputs": [],
      "source": [
        "# Create a tensor tensor of shape (2, 3, 4) with random values."
      ]
    },
    {
      "cell_type": "code",
      "execution_count": 35,
      "metadata": {
        "id": "64K3JjnQ_oIR"
      },
      "outputs": [],
      "source": [
        "# Reshape the tensor to (4, 6)."
      ]
    },
    {
      "cell_type": "code",
      "execution_count": 36,
      "metadata": {
        "id": "2wMAad1Q_oIR"
      },
      "outputs": [],
      "source": [
        "# Transpose the tensor (swap the first and second dimensions)."
      ]
    },
    {
      "cell_type": "code",
      "execution_count": 37,
      "metadata": {
        "id": "Q6aMdw4C_oIR"
      },
      "outputs": [],
      "source": [
        "# Flatten the tensor to a 1D tensor."
      ]
    },
    {
      "cell_type": "markdown",
      "metadata": {
        "id": "ZG3TTe1G_oIR"
      },
      "source": [
        "# 6. Tensor Broadcasting"
      ]
    },
    {
      "cell_type": "code",
      "execution_count": 38,
      "metadata": {
        "id": "VuMy9svO_oIR"
      },
      "outputs": [],
      "source": [
        "# Create a tensor tensor_a of shape (2, 3) with values ranging from 1 to 6."
      ]
    },
    {
      "cell_type": "code",
      "execution_count": 39,
      "metadata": {
        "id": "oEadc1NT_oIS"
      },
      "outputs": [],
      "source": [
        "# Create a tensor tensor_b of shape (1, 3) with values [1, 2, 3]."
      ]
    },
    {
      "cell_type": "code",
      "execution_count": 40,
      "metadata": {
        "id": "lTisv_AW_oIS"
      },
      "outputs": [],
      "source": [
        "# Perform broadcasting addition."
      ]
    },
    {
      "cell_type": "code",
      "execution_count": 41,
      "metadata": {
        "id": "nd00hpQe_oIS"
      },
      "outputs": [],
      "source": [
        "# Create a tensor tensor_c of shape (3, 1) with values [1, 2, 3]."
      ]
    },
    {
      "cell_type": "code",
      "execution_count": 42,
      "metadata": {
        "id": "4XeFlpHA_oIS"
      },
      "outputs": [],
      "source": [
        "# Perform broadcasting multiplication."
      ]
    },
    {
      "cell_type": "markdown",
      "metadata": {
        "id": "Z7KhuqnK_oIS"
      },
      "source": [
        "# 7. Tensor Device Management"
      ]
    },
    {
      "cell_type": "code",
      "execution_count": 43,
      "metadata": {
        "id": "4Qg4YK0q_oIS"
      },
      "outputs": [],
      "source": [
        "# Create a tensor of shape (3, 3) with random values and move it to GPU (if available)."
      ]
    },
    {
      "cell_type": "code",
      "execution_count": 44,
      "metadata": {
        "id": "XOf1RDzi_oIS"
      },
      "outputs": [],
      "source": [
        "# Verify if the tensor is on GPU.\n",
        "# Move the tensor back to CPU."
      ]
    },
    {
      "cell_type": "markdown",
      "metadata": {
        "id": "3ckIXQr1_oIS"
      },
      "source": [
        "# 8. Tensor Cloning and Detaching"
      ]
    },
    {
      "cell_type": "code",
      "execution_count": 45,
      "metadata": {
        "id": "XOGAB9F4_oIW"
      },
      "outputs": [],
      "source": [
        "# Create a tensor tensor of shape (3,) with values [1, 2, 3] and set requires_grad=True."
      ]
    },
    {
      "cell_type": "code",
      "execution_count": 46,
      "metadata": {
        "id": "maEl7saJ_oIX"
      },
      "outputs": [],
      "source": [
        "# Clone the tensor and print the cloned tensor."
      ]
    },
    {
      "cell_type": "code",
      "execution_count": 47,
      "metadata": {
        "id": "lWDpHRfF_oIX"
      },
      "outputs": [],
      "source": [
        "# Detach the tensor from the computation graph and print the detached tensor."
      ]
    },
    {
      "cell_type": "markdown",
      "metadata": {
        "id": "aVJAQob2_oIX"
      },
      "source": [
        "# 9. High Dimensional Tensors"
      ]
    },
    {
      "cell_type": "code",
      "execution_count": 48,
      "metadata": {
        "id": "tekHyDtQ_oIX"
      },
      "outputs": [],
      "source": [
        "# Create a 4D tensor tensor of shape (2, 3, 4, 5) with random values."
      ]
    },
    {
      "cell_type": "code",
      "execution_count": 49,
      "metadata": {
        "id": "xQ7qrz8L_oIX"
      },
      "outputs": [],
      "source": [
        "# Print the shape of the tensor."
      ]
    },
    {
      "cell_type": "code",
      "execution_count": 50,
      "metadata": {
        "id": "yeIh8vMq_oIX"
      },
      "outputs": [],
      "source": [
        "# Access the element at position (1, 2, 3, 4)."
      ]
    },
    {
      "cell_type": "code",
      "execution_count": 51,
      "metadata": {
        "id": "vSuDjS2k_oIX"
      },
      "outputs": [],
      "source": [
        "# Slice and print the first two elements along the first dimension."
      ]
    },
    {
      "cell_type": "code",
      "execution_count": 52,
      "metadata": {
        "id": "XTQZ50UC_oIX"
      },
      "outputs": [],
      "source": [
        "# Sum all elements in the tensor."
      ]
    },
    {
      "cell_type": "code",
      "execution_count": 53,
      "metadata": {
        "id": "vAvikgp__oIX"
      },
      "outputs": [],
      "source": [
        "# Compute the mean along the third dimension."
      ]
    },
    {
      "cell_type": "markdown",
      "metadata": {
        "id": "wpxLYuqP_oIX"
      },
      "source": [
        "# 10. Combining Tensor Operations"
      ]
    },
    {
      "cell_type": "code",
      "execution_count": 54,
      "metadata": {
        "id": "JhFzyqHE_oIY"
      },
      "outputs": [],
      "source": [
        "# Create two tensors tensor_a and tensor_b of shape (2, 3, 4) with random values."
      ]
    },
    {
      "cell_type": "code",
      "execution_count": 55,
      "metadata": {
        "id": "33aP1ma3_oIY"
      },
      "outputs": [],
      "source": [
        "# Add the two tensors."
      ]
    },
    {
      "cell_type": "code",
      "execution_count": 56,
      "metadata": {
        "id": "z37WR9j0_oIZ"
      },
      "outputs": [],
      "source": [
        "# Multiply the resulting tensor by 2."
      ]
    },
    {
      "cell_type": "code",
      "execution_count": 57,
      "metadata": {
        "id": "ksLT7D6Q_oIZ"
      },
      "outputs": [],
      "source": [
        "# Reshape the tensor to (4, 6)."
      ]
    },
    {
      "cell_type": "code",
      "execution_count": 58,
      "metadata": {
        "id": "EVkzBiXd_oIZ"
      },
      "outputs": [],
      "source": [
        "# Compute the sum along the columns."
      ]
    },
    {
      "cell_type": "markdown",
      "metadata": {
        "id": "znHrRafA_oIZ"
      },
      "source": [
        "-------------------------------------------- END ----------------------------------------------"
      ]
    }
  ],
  "metadata": {
    "kernelspec": {
      "display_name": "pytorch_env",
      "language": "python",
      "name": "python3"
    },
    "language_info": {
      "codemirror_mode": {
        "name": "ipython",
        "version": 3
      },
      "file_extension": ".py",
      "mimetype": "text/x-python",
      "name": "python",
      "nbconvert_exporter": "python",
      "pygments_lexer": "ipython3",
      "version": "3.10.14"
    },
    "colab": {
      "provenance": []
    }
  },
  "nbformat": 4,
  "nbformat_minor": 0
}