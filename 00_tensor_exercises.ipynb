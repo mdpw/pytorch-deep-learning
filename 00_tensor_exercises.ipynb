{
  "cells": [
    {
      "cell_type": "code",
      "execution_count": 59,
      "metadata": {
        "id": "PjGfJ7MN_oIN"
      },
      "outputs": [],
      "source": [
        "# M.D.P. Wijesuriya\n",
        "# 18-7-2025"
      ]
    },
    {
      "cell_type": "markdown",
      "metadata": {
        "id": "qGWxcXX7_oIO"
      },
      "source": [
        "# Tensor Exercises"
      ]
    },
    {
      "cell_type": "code",
      "source": [
        "import torch"
      ],
      "metadata": {
        "id": "1qxjaWNr6mBG"
      },
      "execution_count": 60,
      "outputs": []
    },
    {
      "cell_type": "markdown",
      "metadata": {
        "id": "X8lZFGRW_oIP"
      },
      "source": [
        "# 1. Tensor Creation"
      ]
    },
    {
      "cell_type": "code",
      "execution_count": 61,
      "metadata": {
        "colab": {
          "base_uri": "https://localhost:8080/"
        },
        "id": "7m1nuri6_oIP",
        "outputId": "c64ba632-ee2e-4f37-da5e-f300a1f493e6"
      },
      "outputs": [
        {
          "output_type": "stream",
          "name": "stdout",
          "text": [
            "Tensor of shape (5, 3):\n",
            "tensor([[0.8185, 0.8244, 0.8343],\n",
            "        [0.3945, 0.0754, 0.8262],\n",
            "        [0.1442, 0.5283, 0.9736],\n",
            "        [0.4041, 0.7117, 0.4093],\n",
            "        [0.3541, 0.6682, 0.7174]])\n"
          ]
        }
      ],
      "source": [
        "# Create a tensor of shape (5, 3) filled with random values.\n",
        "tensor = torch.rand(5, 3)\n",
        "\n",
        "print(\"Tensor of shape (5, 3):\")\n",
        "print(tensor)"
      ]
    },
    {
      "cell_type": "code",
      "execution_count": 62,
      "metadata": {
        "colab": {
          "base_uri": "https://localhost:8080/"
        },
        "id": "DSLRj-nX_oIP",
        "outputId": "778275e7-64a2-4e66-9bc9-a663269d8493"
      },
      "outputs": [
        {
          "output_type": "stream",
          "name": "stdout",
          "text": [
            "Tensor of shape (2, 4) filled with ones:\n",
            "tensor([[1., 1., 1., 1.],\n",
            "        [1., 1., 1., 1.]])\n"
          ]
        }
      ],
      "source": [
        "# Create a tensor of shape (2, 4) filled with ones.\n",
        "tensor = torch.ones(2, 4)\n",
        "\n",
        "print(\"Tensor of shape (2, 4) filled with ones:\")\n",
        "print(tensor)"
      ]
    },
    {
      "cell_type": "code",
      "execution_count": 63,
      "metadata": {
        "colab": {
          "base_uri": "https://localhost:8080/"
        },
        "id": "OFTr0x-2_oIP",
        "outputId": "cb08b2b9-5b93-447c-8ce9-8917fae92f9e"
      },
      "outputs": [
        {
          "output_type": "stream",
          "name": "stdout",
          "text": [
            "Tensor from list:\n",
            "tensor([ 5, 10, 15, 20])\n"
          ]
        }
      ],
      "source": [
        "# Create a tensor from a list [5, 10, 15, 20].\n",
        "tensor = torch.tensor([5, 10, 15, 20])\n",
        "\n",
        "print(\"Tensor from list:\")\n",
        "print(tensor)"
      ]
    },
    {
      "cell_type": "code",
      "execution_count": 64,
      "metadata": {
        "colab": {
          "base_uri": "https://localhost:8080/"
        },
        "id": "YTPeHwCt_oIQ",
        "outputId": "9e83c477-b682-453c-a191-d57c3a171dc1"
      },
      "outputs": [
        {
          "output_type": "stream",
          "name": "stdout",
          "text": [
            "Image Tensor shape: torch.Size([3, 6, 8])\n"
          ]
        }
      ],
      "source": [
        "# Create a tensor to represent an image that has width of 8, height of 6, and 3 channels.\n",
        "image_tensor = torch.rand(3, 6, 8)\n",
        "\n",
        "print(\"Image Tensor shape:\", image_tensor.shape)"
      ]
    },
    {
      "cell_type": "markdown",
      "metadata": {
        "id": "8TzUWqGh_oIQ"
      },
      "source": [
        "# 2. Tensor Indexing and Slicing"
      ]
    },
    {
      "cell_type": "code",
      "execution_count": 65,
      "metadata": {
        "colab": {
          "base_uri": "https://localhost:8080/"
        },
        "id": "No2u7qrK_oIQ",
        "outputId": "6f95c5af-715e-431a-c9a7-421adf6e3f1f"
      },
      "outputs": [
        {
          "output_type": "stream",
          "name": "stdout",
          "text": [
            "Tensor of shape (3, 4) with values from 10 to 21:\n",
            "tensor([[10, 11, 12, 13],\n",
            "        [14, 15, 16, 17],\n",
            "        [18, 19, 20, 21]])\n"
          ]
        }
      ],
      "source": [
        "# Create a tensor tensor of shape (3, 4) with values ranging from 10 to 22.\n",
        "# Create a 1D tensor with values from 10 to 21 (22 is exclusive)\n",
        "values = torch.arange(10, 22)\n",
        "\n",
        "# Reshape it to (3, 4)\n",
        "tensor = values.reshape(3, 4)\n",
        "\n",
        "print(\"Tensor of shape (3, 4) with values from 10 to 21:\")\n",
        "print(tensor)"
      ]
    },
    {
      "cell_type": "code",
      "source": [
        "image_tensor"
      ],
      "metadata": {
        "colab": {
          "base_uri": "https://localhost:8080/"
        },
        "id": "xahsBWWG8Fqh",
        "outputId": "e5fa9669-9ca1-411c-fe85-6526c931e8be"
      },
      "execution_count": 66,
      "outputs": [
        {
          "output_type": "execute_result",
          "data": {
            "text/plain": [
              "tensor([[[0.8540, 0.4583, 0.8914, 0.8537, 0.9749, 0.0371, 0.0983, 0.8042],\n",
              "         [0.7580, 0.8009, 0.5328, 0.8669, 0.1463, 0.1797, 0.5799, 0.1579],\n",
              "         [0.4253, 0.4415, 0.9124, 0.6002, 0.6727, 0.9569, 0.2611, 0.3761],\n",
              "         [0.7812, 0.9407, 0.9481, 0.0486, 0.9730, 0.8318, 0.4892, 0.1318],\n",
              "         [0.7405, 0.9830, 0.9620, 0.4658, 0.8703, 0.7079, 0.0933, 0.4883],\n",
              "         [0.8512, 0.9823, 0.0101, 0.2456, 0.0249, 0.0909, 0.3603, 0.9059]],\n",
              "\n",
              "        [[0.5084, 0.0245, 0.7289, 0.1685, 0.6683, 0.9143, 0.5260, 0.3007],\n",
              "         [0.2907, 0.4004, 0.6515, 0.8130, 0.9334, 0.3332, 0.0809, 0.0831],\n",
              "         [0.0079, 0.3883, 0.7125, 0.2979, 0.2825, 0.1986, 0.7510, 0.9794],\n",
              "         [0.5562, 0.0081, 0.5561, 0.3748, 0.3152, 0.3297, 0.5013, 0.4437],\n",
              "         [0.5631, 0.7435, 0.9986, 0.2227, 0.6815, 0.9768, 0.5786, 0.6218],\n",
              "         [0.4392, 0.4422, 0.9142, 0.2164, 0.3292, 0.9566, 0.4595, 0.2996]],\n",
              "\n",
              "        [[0.6895, 0.0666, 0.1908, 0.4100, 0.8559, 0.8182, 0.1299, 0.0126],\n",
              "         [0.9600, 0.8666, 0.5534, 0.0985, 0.9791, 0.4234, 0.2237, 0.7807],\n",
              "         [0.4893, 0.5321, 0.9479, 0.6311, 0.3803, 0.9176, 0.3909, 0.4050],\n",
              "         [0.7847, 0.4396, 0.8330, 0.3158, 0.4876, 0.0281, 0.3313, 0.1091],\n",
              "         [0.6073, 0.5982, 0.2157, 0.5397, 0.0700, 0.9856, 0.6546, 0.0792],\n",
              "         [0.6213, 0.2025, 0.7256, 0.6536, 0.8894, 0.4094, 0.1448, 0.0503]]])"
            ]
          },
          "metadata": {},
          "execution_count": 66
        }
      ]
    },
    {
      "cell_type": "code",
      "execution_count": 67,
      "metadata": {
        "colab": {
          "base_uri": "https://localhost:8080/"
        },
        "id": "QCkNnnB8_oIQ",
        "outputId": "de9c437e-80aa-4bb1-fb94-ecbb83a358f6"
      },
      "outputs": [
        {
          "output_type": "stream",
          "name": "stdout",
          "text": [
            "Element at channel 0, row 1, column 2: tensor(0.5328)\n"
          ]
        }
      ],
      "source": [
        "# Access the element at the second row, third column.\n",
        "element = image_tensor[0, 1, 2]\n",
        "print(\"Element at channel 0, row 1, column 2:\", element)"
      ]
    },
    {
      "cell_type": "code",
      "execution_count": 68,
      "metadata": {
        "colab": {
          "base_uri": "https://localhost:8080/"
        },
        "id": "kRwNmnut_oIQ",
        "outputId": "23e7bada-d11f-4804-9413-22256ea92978"
      },
      "outputs": [
        {
          "output_type": "stream",
          "name": "stdout",
          "text": [
            "Second row (across all channels):\n",
            "tensor([[0.7580, 0.8009, 0.5328, 0.8669, 0.1463, 0.1797, 0.5799, 0.1579],\n",
            "        [0.2907, 0.4004, 0.6515, 0.8130, 0.9334, 0.3332, 0.0809, 0.0831],\n",
            "        [0.9600, 0.8666, 0.5534, 0.0985, 0.9791, 0.4234, 0.2237, 0.7807]])\n"
          ]
        }
      ],
      "source": [
        "# Print the second row.\n",
        "second_row = image_tensor[:, 1, :]  # This means All channels, row 1, all columns\n",
        "print(\"Second row (across all channels):\")\n",
        "print(second_row)"
      ]
    },
    {
      "cell_type": "code",
      "execution_count": 69,
      "metadata": {
        "colab": {
          "base_uri": "https://localhost:8080/"
        },
        "id": "9J8duzB5_oIQ",
        "outputId": "76859155-fe20-4973-bb9a-c3fdc26872a5"
      },
      "outputs": [
        {
          "output_type": "stream",
          "name": "stdout",
          "text": [
            "First two columns (across all rows and channels):\n",
            "tensor([[[0.8540, 0.4583],\n",
            "         [0.7580, 0.8009],\n",
            "         [0.4253, 0.4415],\n",
            "         [0.7812, 0.9407],\n",
            "         [0.7405, 0.9830],\n",
            "         [0.8512, 0.9823]],\n",
            "\n",
            "        [[0.5084, 0.0245],\n",
            "         [0.2907, 0.4004],\n",
            "         [0.0079, 0.3883],\n",
            "         [0.5562, 0.0081],\n",
            "         [0.5631, 0.7435],\n",
            "         [0.4392, 0.4422]],\n",
            "\n",
            "        [[0.6895, 0.0666],\n",
            "         [0.9600, 0.8666],\n",
            "         [0.4893, 0.5321],\n",
            "         [0.7847, 0.4396],\n",
            "         [0.6073, 0.5982],\n",
            "         [0.6213, 0.2025]]])\n"
          ]
        }
      ],
      "source": [
        "# Print the first two columns.\n",
        "first_two_columns = image_tensor[:, :, :2]  # This means All channels, all rows, first 2 columns\n",
        "print(\"First two columns (across all rows and channels):\")\n",
        "print(first_two_columns)"
      ]
    },
    {
      "cell_type": "markdown",
      "metadata": {
        "id": "piZEIKjo_oIQ"
      },
      "source": [
        "# 3. Tensor Arithmetic Operations"
      ]
    },
    {
      "cell_type": "code",
      "execution_count": 70,
      "metadata": {
        "colab": {
          "base_uri": "https://localhost:8080/"
        },
        "id": "hRjK8pH__oIQ",
        "outputId": "02fb959a-956d-48eb-d947-22603961d884"
      },
      "outputs": [
        {
          "output_type": "stream",
          "name": "stdout",
          "text": [
            "Tensor A:\n",
            "tensor([[0.5749, 0.1991, 0.2199],\n",
            "        [0.8112, 0.2742, 0.3828],\n",
            "        [0.7344, 0.7038, 0.1992]])\n",
            "\n",
            "\n",
            "\n",
            "Tensor B:\n",
            "tensor([[0.6180, 0.6689, 0.8575],\n",
            "        [0.8253, 0.9764, 0.6162],\n",
            "        [0.1122, 0.7545, 0.9140]])\n"
          ]
        }
      ],
      "source": [
        "# Create two tensors tensor_a and tensor_b of shape (3, 3) with random values.\n",
        "tensor_a = torch.rand(3, 3)\n",
        "tensor_b = torch.rand(3, 3)\n",
        "\n",
        "print(\"Tensor A:\")\n",
        "print(tensor_a)\n",
        "\n",
        "print(\"\\n\")\n",
        "\n",
        "print(\"\\nTensor B:\")\n",
        "print(tensor_b)"
      ]
    },
    {
      "cell_type": "code",
      "execution_count": 106,
      "metadata": {
        "colab": {
          "base_uri": "https://localhost:8080/"
        },
        "id": "GWwjWvxu_oIQ",
        "outputId": "7a88d276-0dda-4718-9202-c982498a771c"
      },
      "outputs": [
        {
          "output_type": "stream",
          "name": "stdout",
          "text": [
            "\n",
            "Element-wise addition result:\n",
            "tensor([[1.1929, 0.8680, 1.0773],\n",
            "        [1.6365, 1.2506, 0.9990],\n",
            "        [0.8466, 1.4583, 1.1133]])\n"
          ]
        }
      ],
      "source": [
        "# Perform element-wise addition.\n",
        "result = tensor_a + tensor_b\n",
        "\n",
        "print(\"\\nElement-wise addition result:\")\n",
        "print(result)"
      ]
    },
    {
      "cell_type": "code",
      "execution_count": 72,
      "metadata": {
        "id": "RPcX3tId_oIR"
      },
      "outputs": [],
      "source": [
        "# Perform element-wise multiplication."
      ]
    },
    {
      "cell_type": "code",
      "execution_count": 73,
      "metadata": {
        "id": "37rJUozJ_oIR"
      },
      "outputs": [],
      "source": [
        "# Subtract tensor_b from tensor_a."
      ]
    },
    {
      "cell_type": "markdown",
      "metadata": {
        "id": "QQ1Ndt5k_oIR"
      },
      "source": [
        "# 4. Tensor Aggregation Operations"
      ]
    },
    {
      "cell_type": "code",
      "execution_count": 74,
      "metadata": {
        "id": "wlQxxKn8_oIR"
      },
      "outputs": [],
      "source": [
        "# Create a tensor tensor of shape (3, 3) with values ranging from 1 to 9."
      ]
    },
    {
      "cell_type": "code",
      "execution_count": 75,
      "metadata": {
        "id": "7eoNDZuP_oIR"
      },
      "outputs": [],
      "source": [
        "# Compute the sum of all elements."
      ]
    },
    {
      "cell_type": "code",
      "execution_count": 76,
      "metadata": {
        "id": "Lde797CY_oIR"
      },
      "outputs": [],
      "source": [
        "# Compute the mean of all elements."
      ]
    },
    {
      "cell_type": "code",
      "execution_count": 77,
      "metadata": {
        "id": "HsQaaSAm_oIR"
      },
      "outputs": [],
      "source": [
        "# Find the maximum and minimum values."
      ]
    },
    {
      "cell_type": "code",
      "execution_count": 78,
      "metadata": {
        "id": "6TfWdojV_oIR"
      },
      "outputs": [],
      "source": [
        "# Compute the sum along the rows."
      ]
    },
    {
      "cell_type": "code",
      "execution_count": 79,
      "metadata": {
        "id": "RAW9fxwn_oIR"
      },
      "outputs": [],
      "source": [
        "# Compute the mean along the columns."
      ]
    },
    {
      "cell_type": "markdown",
      "metadata": {
        "id": "3mYLie6L_oIR"
      },
      "source": [
        "# 5. Tensor Reshaping Operations"
      ]
    },
    {
      "cell_type": "code",
      "execution_count": 80,
      "metadata": {
        "id": "19pt6_9m_oIR"
      },
      "outputs": [],
      "source": [
        "# Create a tensor tensor of shape (2, 3, 4) with random values."
      ]
    },
    {
      "cell_type": "code",
      "execution_count": 81,
      "metadata": {
        "id": "64K3JjnQ_oIR"
      },
      "outputs": [],
      "source": [
        "# Reshape the tensor to (4, 6)."
      ]
    },
    {
      "cell_type": "code",
      "execution_count": 82,
      "metadata": {
        "id": "2wMAad1Q_oIR"
      },
      "outputs": [],
      "source": [
        "# Transpose the tensor (swap the first and second dimensions)."
      ]
    },
    {
      "cell_type": "code",
      "execution_count": 83,
      "metadata": {
        "id": "Q6aMdw4C_oIR"
      },
      "outputs": [],
      "source": [
        "# Flatten the tensor to a 1D tensor."
      ]
    },
    {
      "cell_type": "markdown",
      "metadata": {
        "id": "ZG3TTe1G_oIR"
      },
      "source": [
        "# 6. Tensor Broadcasting"
      ]
    },
    {
      "cell_type": "code",
      "execution_count": 84,
      "metadata": {
        "id": "VuMy9svO_oIR"
      },
      "outputs": [],
      "source": [
        "# Create a tensor tensor_a of shape (2, 3) with values ranging from 1 to 6."
      ]
    },
    {
      "cell_type": "code",
      "execution_count": 85,
      "metadata": {
        "id": "oEadc1NT_oIS"
      },
      "outputs": [],
      "source": [
        "# Create a tensor tensor_b of shape (1, 3) with values [1, 2, 3]."
      ]
    },
    {
      "cell_type": "code",
      "execution_count": 86,
      "metadata": {
        "id": "lTisv_AW_oIS"
      },
      "outputs": [],
      "source": [
        "# Perform broadcasting addition."
      ]
    },
    {
      "cell_type": "code",
      "execution_count": 87,
      "metadata": {
        "id": "nd00hpQe_oIS"
      },
      "outputs": [],
      "source": [
        "# Create a tensor tensor_c of shape (3, 1) with values [1, 2, 3]."
      ]
    },
    {
      "cell_type": "code",
      "execution_count": 88,
      "metadata": {
        "id": "4XeFlpHA_oIS"
      },
      "outputs": [],
      "source": [
        "# Perform broadcasting multiplication."
      ]
    },
    {
      "cell_type": "markdown",
      "metadata": {
        "id": "Z7KhuqnK_oIS"
      },
      "source": [
        "# 7. Tensor Device Management"
      ]
    },
    {
      "cell_type": "code",
      "execution_count": 89,
      "metadata": {
        "id": "4Qg4YK0q_oIS"
      },
      "outputs": [],
      "source": [
        "# Create a tensor of shape (3, 3) with random values and move it to GPU (if available)."
      ]
    },
    {
      "cell_type": "code",
      "execution_count": 90,
      "metadata": {
        "id": "XOf1RDzi_oIS"
      },
      "outputs": [],
      "source": [
        "# Verify if the tensor is on GPU.\n",
        "# Move the tensor back to CPU."
      ]
    },
    {
      "cell_type": "markdown",
      "metadata": {
        "id": "3ckIXQr1_oIS"
      },
      "source": [
        "# 8. Tensor Cloning and Detaching"
      ]
    },
    {
      "cell_type": "code",
      "execution_count": 91,
      "metadata": {
        "id": "XOGAB9F4_oIW"
      },
      "outputs": [],
      "source": [
        "# Create a tensor tensor of shape (3,) with values [1, 2, 3] and set requires_grad=True."
      ]
    },
    {
      "cell_type": "code",
      "execution_count": 92,
      "metadata": {
        "id": "maEl7saJ_oIX"
      },
      "outputs": [],
      "source": [
        "# Clone the tensor and print the cloned tensor."
      ]
    },
    {
      "cell_type": "code",
      "execution_count": 93,
      "metadata": {
        "id": "lWDpHRfF_oIX"
      },
      "outputs": [],
      "source": [
        "# Detach the tensor from the computation graph and print the detached tensor."
      ]
    },
    {
      "cell_type": "markdown",
      "metadata": {
        "id": "aVJAQob2_oIX"
      },
      "source": [
        "# 9. High Dimensional Tensors"
      ]
    },
    {
      "cell_type": "code",
      "execution_count": 94,
      "metadata": {
        "id": "tekHyDtQ_oIX"
      },
      "outputs": [],
      "source": [
        "# Create a 4D tensor tensor of shape (2, 3, 4, 5) with random values."
      ]
    },
    {
      "cell_type": "code",
      "execution_count": 95,
      "metadata": {
        "id": "xQ7qrz8L_oIX"
      },
      "outputs": [],
      "source": [
        "# Print the shape of the tensor."
      ]
    },
    {
      "cell_type": "code",
      "execution_count": 96,
      "metadata": {
        "id": "yeIh8vMq_oIX"
      },
      "outputs": [],
      "source": [
        "# Access the element at position (1, 2, 3, 4)."
      ]
    },
    {
      "cell_type": "code",
      "execution_count": 97,
      "metadata": {
        "id": "vSuDjS2k_oIX"
      },
      "outputs": [],
      "source": [
        "# Slice and print the first two elements along the first dimension."
      ]
    },
    {
      "cell_type": "code",
      "execution_count": 98,
      "metadata": {
        "id": "XTQZ50UC_oIX"
      },
      "outputs": [],
      "source": [
        "# Sum all elements in the tensor."
      ]
    },
    {
      "cell_type": "code",
      "execution_count": 99,
      "metadata": {
        "id": "vAvikgp__oIX"
      },
      "outputs": [],
      "source": [
        "# Compute the mean along the third dimension."
      ]
    },
    {
      "cell_type": "markdown",
      "metadata": {
        "id": "wpxLYuqP_oIX"
      },
      "source": [
        "# 10. Combining Tensor Operations"
      ]
    },
    {
      "cell_type": "code",
      "execution_count": 100,
      "metadata": {
        "id": "JhFzyqHE_oIY"
      },
      "outputs": [],
      "source": [
        "# Create two tensors tensor_a and tensor_b of shape (2, 3, 4) with random values."
      ]
    },
    {
      "cell_type": "code",
      "execution_count": 101,
      "metadata": {
        "id": "33aP1ma3_oIY"
      },
      "outputs": [],
      "source": [
        "# Add the two tensors."
      ]
    },
    {
      "cell_type": "code",
      "execution_count": 102,
      "metadata": {
        "id": "z37WR9j0_oIZ"
      },
      "outputs": [],
      "source": [
        "# Multiply the resulting tensor by 2."
      ]
    },
    {
      "cell_type": "code",
      "execution_count": 103,
      "metadata": {
        "id": "ksLT7D6Q_oIZ"
      },
      "outputs": [],
      "source": [
        "# Reshape the tensor to (4, 6)."
      ]
    },
    {
      "cell_type": "code",
      "execution_count": 104,
      "metadata": {
        "id": "EVkzBiXd_oIZ"
      },
      "outputs": [],
      "source": [
        "# Compute the sum along the columns."
      ]
    },
    {
      "cell_type": "markdown",
      "metadata": {
        "id": "znHrRafA_oIZ"
      },
      "source": [
        "-------------------------------------------- END ----------------------------------------------"
      ]
    }
  ],
  "metadata": {
    "kernelspec": {
      "display_name": "pytorch_env",
      "language": "python",
      "name": "python3"
    },
    "language_info": {
      "codemirror_mode": {
        "name": "ipython",
        "version": 3
      },
      "file_extension": ".py",
      "mimetype": "text/x-python",
      "name": "python",
      "nbconvert_exporter": "python",
      "pygments_lexer": "ipython3",
      "version": "3.10.14"
    },
    "colab": {
      "provenance": []
    }
  },
  "nbformat": 4,
  "nbformat_minor": 0
}