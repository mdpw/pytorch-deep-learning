{
  "cells": [
    {
      "cell_type": "code",
      "execution_count": null,
      "metadata": {
        "id": "PjGfJ7MN_oIN"
      },
      "outputs": [],
      "source": [
        "# M.D.P. Wijesuriya\n",
        "# 18-7-2025"
      ]
    },
    {
      "cell_type": "markdown",
      "metadata": {
        "id": "qGWxcXX7_oIO"
      },
      "source": [
        "# Tensor Exercises"
      ]
    },
    {
      "cell_type": "code",
      "source": [
        "import torch"
      ],
      "metadata": {
        "id": "1qxjaWNr6mBG"
      },
      "execution_count": 1,
      "outputs": []
    },
    {
      "cell_type": "markdown",
      "metadata": {
        "id": "X8lZFGRW_oIP"
      },
      "source": [
        "# 1. Tensor Creation"
      ]
    },
    {
      "cell_type": "code",
      "execution_count": 2,
      "metadata": {
        "id": "7m1nuri6_oIP",
        "outputId": "4efa2f81-e90e-446c-9557-b2398e6ba61c",
        "colab": {
          "base_uri": "https://localhost:8080/"
        }
      },
      "outputs": [
        {
          "output_type": "stream",
          "name": "stdout",
          "text": [
            "Tensor of shape (5, 3):\n",
            "tensor([[0.9603, 0.2590, 0.5690],\n",
            "        [0.2027, 0.2467, 0.7345],\n",
            "        [0.8692, 0.9702, 0.3069],\n",
            "        [0.0626, 0.1003, 0.4503],\n",
            "        [0.4375, 0.8613, 0.9891]])\n"
          ]
        }
      ],
      "source": [
        "# Create a tensor of shape (5, 3) filled with random values.\n",
        "tensor = torch.rand(5, 3)\n",
        "\n",
        "print(\"Tensor of shape (5, 3):\")\n",
        "print(tensor)"
      ]
    },
    {
      "cell_type": "code",
      "execution_count": 3,
      "metadata": {
        "id": "DSLRj-nX_oIP",
        "outputId": "7b4e6fda-90d0-452d-f5e9-43ae09c6f0c1",
        "colab": {
          "base_uri": "https://localhost:8080/"
        }
      },
      "outputs": [
        {
          "output_type": "stream",
          "name": "stdout",
          "text": [
            "Tensor of shape (2, 4) filled with ones:\n",
            "tensor([[1., 1., 1., 1.],\n",
            "        [1., 1., 1., 1.]])\n"
          ]
        }
      ],
      "source": [
        "# Create a tensor of shape (2, 4) filled with ones.\n",
        "tensor = torch.ones(2, 4)\n",
        "\n",
        "print(\"Tensor of shape (2, 4) filled with ones:\")\n",
        "print(tensor)"
      ]
    },
    {
      "cell_type": "code",
      "execution_count": 4,
      "metadata": {
        "id": "OFTr0x-2_oIP",
        "outputId": "b3b08f42-f081-44df-ddf7-0ebfaedb98f2",
        "colab": {
          "base_uri": "https://localhost:8080/"
        }
      },
      "outputs": [
        {
          "output_type": "stream",
          "name": "stdout",
          "text": [
            "Tensor from list:\n",
            "tensor([ 5, 10, 15, 20])\n"
          ]
        }
      ],
      "source": [
        "# Create a tensor from a list [5, 10, 15, 20].\n",
        "tensor = torch.tensor([5, 10, 15, 20])\n",
        "\n",
        "print(\"Tensor from list:\")\n",
        "print(tensor)"
      ]
    },
    {
      "cell_type": "code",
      "execution_count": null,
      "metadata": {
        "id": "YTPeHwCt_oIQ"
      },
      "outputs": [],
      "source": [
        "# Create a tensor to represent an image that has width of 8, height of 6, and 3 channels."
      ]
    },
    {
      "cell_type": "markdown",
      "metadata": {
        "id": "8TzUWqGh_oIQ"
      },
      "source": [
        "# 2. Tensor Indexing and Slicing"
      ]
    },
    {
      "cell_type": "code",
      "execution_count": 5,
      "metadata": {
        "id": "No2u7qrK_oIQ",
        "outputId": "3fb1f095-0c62-4d9d-de97-69a5fc443585",
        "colab": {
          "base_uri": "https://localhost:8080/"
        }
      },
      "outputs": [
        {
          "output_type": "stream",
          "name": "stdout",
          "text": [
            "Image Tensor shape: torch.Size([3, 6, 8])\n"
          ]
        }
      ],
      "source": [
        "# Create a tensor tensor of shape (3, 4) with values ranging from 10 to 22.\n",
        "image_tensor = torch.rand(3, 6, 8)\n",
        "\n",
        "print(\"Image Tensor shape:\", image_tensor.shape)"
      ]
    },
    {
      "cell_type": "code",
      "source": [
        "image_tensor"
      ],
      "metadata": {
        "id": "xahsBWWG8Fqh",
        "outputId": "177fccf0-b38a-40f3-e69f-49348346f4cc",
        "colab": {
          "base_uri": "https://localhost:8080/"
        }
      },
      "execution_count": 7,
      "outputs": [
        {
          "output_type": "execute_result",
          "data": {
            "text/plain": [
              "tensor([[[0.6584, 0.4372, 0.1179, 0.2812, 0.7577, 0.1479, 0.9685, 0.1862],\n",
              "         [0.1112, 0.9103, 0.1488, 0.8587, 0.5635, 0.7134, 0.6678, 0.4943],\n",
              "         [0.1454, 0.3486, 0.9496, 0.6102, 0.9411, 0.3020, 0.9652, 0.6953],\n",
              "         [0.9021, 0.1844, 0.1515, 0.3367, 0.4753, 0.7513, 0.4108, 0.1865],\n",
              "         [0.1933, 0.8062, 0.5505, 0.2925, 0.1750, 0.3843, 0.7750, 0.6723],\n",
              "         [0.2137, 0.8967, 0.4837, 0.4169, 0.0484, 0.5299, 0.0336, 0.0961]],\n",
              "\n",
              "        [[0.8995, 0.9932, 0.2382, 0.3348, 0.9739, 0.2257, 0.9662, 0.5810],\n",
              "         [0.8714, 0.1618, 0.0720, 0.8905, 0.9330, 0.4844, 0.1960, 0.3217],\n",
              "         [0.6972, 0.0502, 0.3768, 0.3260, 0.0235, 0.1451, 0.2712, 0.7980],\n",
              "         [0.1568, 0.9615, 0.9285, 0.8504, 0.3915, 0.2572, 0.3020, 0.9764],\n",
              "         [0.0242, 0.5624, 0.2012, 0.9530, 0.4735, 0.4961, 0.9544, 0.7652],\n",
              "         [0.3734, 0.6137, 0.5953, 0.4747, 0.1151, 0.5677, 0.7622, 0.5595]],\n",
              "\n",
              "        [[0.3945, 0.5089, 0.6328, 0.3877, 0.1222, 0.6224, 0.6580, 0.1520],\n",
              "         [0.5519, 0.1724, 0.8324, 0.9406, 0.2070, 0.4623, 0.3771, 0.2119],\n",
              "         [0.9501, 0.6219, 0.1269, 0.5998, 0.3736, 0.6470, 0.6800, 0.5542],\n",
              "         [0.6694, 0.6356, 0.0556, 0.3827, 0.7349, 0.0413, 0.5751, 0.5838],\n",
              "         [0.9828, 0.9177, 0.6781, 0.4938, 0.1890, 0.6579, 0.5398, 0.8219],\n",
              "         [0.4937, 0.3589, 0.1418, 0.5038, 0.8698, 0.3684, 0.0195, 0.0329]]])"
            ]
          },
          "metadata": {},
          "execution_count": 7
        }
      ]
    },
    {
      "cell_type": "code",
      "execution_count": 6,
      "metadata": {
        "id": "QCkNnnB8_oIQ",
        "outputId": "168b7e1b-526f-4190-a9df-220ba4225894",
        "colab": {
          "base_uri": "https://localhost:8080/"
        }
      },
      "outputs": [
        {
          "output_type": "stream",
          "name": "stdout",
          "text": [
            "Element at channel 0, row 1, column 2: tensor(0.1488)\n"
          ]
        }
      ],
      "source": [
        "# Access the element at the second row, third column.\n",
        "element = image_tensor[0, 1, 2]\n",
        "print(\"Element at channel 0, row 1, column 2:\", element)"
      ]
    },
    {
      "cell_type": "code",
      "execution_count": 9,
      "metadata": {
        "id": "kRwNmnut_oIQ",
        "outputId": "d31ae1e3-eca1-43eb-9958-17530ee43aac",
        "colab": {
          "base_uri": "https://localhost:8080/"
        }
      },
      "outputs": [
        {
          "output_type": "stream",
          "name": "stdout",
          "text": [
            "Second row (across all channels):\n",
            "tensor([[0.0305, 0.3125, 0.0179, 0.3926, 0.5481, 0.0031, 0.7893, 0.1611],\n",
            "        [0.2478, 0.9395, 0.5630, 0.5244, 0.6300, 0.1125, 0.5976, 0.2234],\n",
            "        [0.0308, 0.6093, 0.0334, 0.2829, 0.3106, 0.6402, 0.6738, 0.2856]])\n"
          ]
        }
      ],
      "source": [
        "# Print the second row.\n",
        "second_row = image_tensor[:, 1, :]  # This means All channels, row 1, all columns\n",
        "print(\"Second row (across all channels):\")\n",
        "print(second_row)"
      ]
    },
    {
      "cell_type": "code",
      "execution_count": 10,
      "metadata": {
        "id": "9J8duzB5_oIQ",
        "outputId": "b55538e1-2310-4809-ae7d-cffa717d1b61",
        "colab": {
          "base_uri": "https://localhost:8080/"
        }
      },
      "outputs": [
        {
          "output_type": "stream",
          "name": "stdout",
          "text": [
            "First two columns (across all rows and channels):\n",
            "tensor([[[0.7010, 0.4054],\n",
            "         [0.0305, 0.3125],\n",
            "         [0.6351, 0.1624],\n",
            "         [0.1415, 0.7161],\n",
            "         [0.7157, 0.2106],\n",
            "         [0.4675, 0.1767]],\n",
            "\n",
            "        [[0.4654, 0.0061],\n",
            "         [0.2478, 0.9395],\n",
            "         [0.8106, 0.4176],\n",
            "         [0.3846, 0.3339],\n",
            "         [0.5006, 0.8077],\n",
            "         [0.2265, 0.4901]],\n",
            "\n",
            "        [[0.4281, 0.2998],\n",
            "         [0.0308, 0.6093],\n",
            "         [0.6489, 0.2156],\n",
            "         [0.6135, 0.3191],\n",
            "         [0.2245, 0.5047],\n",
            "         [0.0087, 0.0296]]])\n"
          ]
        }
      ],
      "source": [
        "# Print the first two columns.\n",
        "first_two_columns = image_tensor[:, :, :2]  # This means All channels, all rows, first 2 columns\n",
        "print(\"First two columns (across all rows and channels):\")\n",
        "print(first_two_columns)"
      ]
    },
    {
      "cell_type": "markdown",
      "metadata": {
        "id": "piZEIKjo_oIQ"
      },
      "source": [
        "# 3. Tensor Arithmetic Operations"
      ]
    },
    {
      "cell_type": "code",
      "execution_count": null,
      "metadata": {
        "id": "hRjK8pH__oIQ"
      },
      "outputs": [],
      "source": [
        "# Create two tensors tensor_a and tensor_b of shape (3, 3) with random values.\n",
        "tensor_a = torch.rand(3, 3)\n",
        "tensor_b = torch.rand(3, 3)\n",
        "\n",
        "print(\"Tensor A:\")\n",
        "print(tensor_a)\n",
        "\n",
        "print(\"\\n\")\n",
        "\n",
        "print(\"\\nTensor B:\")\n",
        "print(tensor_b)"
      ]
    },
    {
      "cell_type": "code",
      "execution_count": null,
      "metadata": {
        "id": "GWwjWvxu_oIQ"
      },
      "outputs": [],
      "source": [
        "# Perform element-wise addition."
      ]
    },
    {
      "cell_type": "code",
      "execution_count": null,
      "metadata": {
        "id": "RPcX3tId_oIR"
      },
      "outputs": [],
      "source": [
        "# Perform element-wise multiplication."
      ]
    },
    {
      "cell_type": "code",
      "execution_count": null,
      "metadata": {
        "id": "37rJUozJ_oIR"
      },
      "outputs": [],
      "source": [
        "# Subtract tensor_b from tensor_a."
      ]
    },
    {
      "cell_type": "markdown",
      "metadata": {
        "id": "QQ1Ndt5k_oIR"
      },
      "source": [
        "# 4. Tensor Aggregation Operations"
      ]
    },
    {
      "cell_type": "code",
      "execution_count": null,
      "metadata": {
        "id": "wlQxxKn8_oIR"
      },
      "outputs": [],
      "source": [
        "# Create a tensor tensor of shape (3, 3) with values ranging from 1 to 9."
      ]
    },
    {
      "cell_type": "code",
      "execution_count": null,
      "metadata": {
        "id": "7eoNDZuP_oIR"
      },
      "outputs": [],
      "source": [
        "# Compute the sum of all elements."
      ]
    },
    {
      "cell_type": "code",
      "execution_count": null,
      "metadata": {
        "id": "Lde797CY_oIR"
      },
      "outputs": [],
      "source": [
        "# Compute the mean of all elements."
      ]
    },
    {
      "cell_type": "code",
      "execution_count": null,
      "metadata": {
        "id": "HsQaaSAm_oIR"
      },
      "outputs": [],
      "source": [
        "# Find the maximum and minimum values."
      ]
    },
    {
      "cell_type": "code",
      "execution_count": null,
      "metadata": {
        "id": "6TfWdojV_oIR"
      },
      "outputs": [],
      "source": [
        "# Compute the sum along the rows."
      ]
    },
    {
      "cell_type": "code",
      "execution_count": null,
      "metadata": {
        "id": "RAW9fxwn_oIR"
      },
      "outputs": [],
      "source": [
        "# Compute the mean along the columns."
      ]
    },
    {
      "cell_type": "markdown",
      "metadata": {
        "id": "3mYLie6L_oIR"
      },
      "source": [
        "# 5. Tensor Reshaping Operations"
      ]
    },
    {
      "cell_type": "code",
      "execution_count": null,
      "metadata": {
        "id": "19pt6_9m_oIR"
      },
      "outputs": [],
      "source": [
        "# Create a tensor tensor of shape (2, 3, 4) with random values."
      ]
    },
    {
      "cell_type": "code",
      "execution_count": null,
      "metadata": {
        "id": "64K3JjnQ_oIR"
      },
      "outputs": [],
      "source": [
        "# Reshape the tensor to (4, 6)."
      ]
    },
    {
      "cell_type": "code",
      "execution_count": null,
      "metadata": {
        "id": "2wMAad1Q_oIR"
      },
      "outputs": [],
      "source": [
        "# Transpose the tensor (swap the first and second dimensions)."
      ]
    },
    {
      "cell_type": "code",
      "execution_count": null,
      "metadata": {
        "id": "Q6aMdw4C_oIR"
      },
      "outputs": [],
      "source": [
        "# Flatten the tensor to a 1D tensor."
      ]
    },
    {
      "cell_type": "markdown",
      "metadata": {
        "id": "ZG3TTe1G_oIR"
      },
      "source": [
        "# 6. Tensor Broadcasting"
      ]
    },
    {
      "cell_type": "code",
      "execution_count": null,
      "metadata": {
        "id": "VuMy9svO_oIR"
      },
      "outputs": [],
      "source": [
        "# Create a tensor tensor_a of shape (2, 3) with values ranging from 1 to 6."
      ]
    },
    {
      "cell_type": "code",
      "execution_count": null,
      "metadata": {
        "id": "oEadc1NT_oIS"
      },
      "outputs": [],
      "source": [
        "# Create a tensor tensor_b of shape (1, 3) with values [1, 2, 3]."
      ]
    },
    {
      "cell_type": "code",
      "execution_count": null,
      "metadata": {
        "id": "lTisv_AW_oIS"
      },
      "outputs": [],
      "source": [
        "# Perform broadcasting addition."
      ]
    },
    {
      "cell_type": "code",
      "execution_count": null,
      "metadata": {
        "id": "nd00hpQe_oIS"
      },
      "outputs": [],
      "source": [
        "# Create a tensor tensor_c of shape (3, 1) with values [1, 2, 3]."
      ]
    },
    {
      "cell_type": "code",
      "execution_count": null,
      "metadata": {
        "id": "4XeFlpHA_oIS"
      },
      "outputs": [],
      "source": [
        "# Perform broadcasting multiplication."
      ]
    },
    {
      "cell_type": "markdown",
      "metadata": {
        "id": "Z7KhuqnK_oIS"
      },
      "source": [
        "# 7. Tensor Device Management"
      ]
    },
    {
      "cell_type": "code",
      "execution_count": null,
      "metadata": {
        "id": "4Qg4YK0q_oIS"
      },
      "outputs": [],
      "source": [
        "# Create a tensor of shape (3, 3) with random values and move it to GPU (if available)."
      ]
    },
    {
      "cell_type": "code",
      "execution_count": null,
      "metadata": {
        "id": "XOf1RDzi_oIS"
      },
      "outputs": [],
      "source": [
        "# Verify if the tensor is on GPU.\n",
        "# Move the tensor back to CPU."
      ]
    },
    {
      "cell_type": "markdown",
      "metadata": {
        "id": "3ckIXQr1_oIS"
      },
      "source": [
        "# 8. Tensor Cloning and Detaching"
      ]
    },
    {
      "cell_type": "code",
      "execution_count": null,
      "metadata": {
        "id": "XOGAB9F4_oIW"
      },
      "outputs": [],
      "source": [
        "# Create a tensor tensor of shape (3,) with values [1, 2, 3] and set requires_grad=True."
      ]
    },
    {
      "cell_type": "code",
      "execution_count": null,
      "metadata": {
        "id": "maEl7saJ_oIX"
      },
      "outputs": [],
      "source": [
        "# Clone the tensor and print the cloned tensor."
      ]
    },
    {
      "cell_type": "code",
      "execution_count": null,
      "metadata": {
        "id": "lWDpHRfF_oIX"
      },
      "outputs": [],
      "source": [
        "# Detach the tensor from the computation graph and print the detached tensor."
      ]
    },
    {
      "cell_type": "markdown",
      "metadata": {
        "id": "aVJAQob2_oIX"
      },
      "source": [
        "# 9. High Dimensional Tensors"
      ]
    },
    {
      "cell_type": "code",
      "execution_count": null,
      "metadata": {
        "id": "tekHyDtQ_oIX"
      },
      "outputs": [],
      "source": [
        "# Create a 4D tensor tensor of shape (2, 3, 4, 5) with random values."
      ]
    },
    {
      "cell_type": "code",
      "execution_count": null,
      "metadata": {
        "id": "xQ7qrz8L_oIX"
      },
      "outputs": [],
      "source": [
        "# Print the shape of the tensor."
      ]
    },
    {
      "cell_type": "code",
      "execution_count": null,
      "metadata": {
        "id": "yeIh8vMq_oIX"
      },
      "outputs": [],
      "source": [
        "# Access the element at position (1, 2, 3, 4)."
      ]
    },
    {
      "cell_type": "code",
      "execution_count": null,
      "metadata": {
        "id": "vSuDjS2k_oIX"
      },
      "outputs": [],
      "source": [
        "# Slice and print the first two elements along the first dimension."
      ]
    },
    {
      "cell_type": "code",
      "execution_count": null,
      "metadata": {
        "id": "XTQZ50UC_oIX"
      },
      "outputs": [],
      "source": [
        "# Sum all elements in the tensor."
      ]
    },
    {
      "cell_type": "code",
      "execution_count": null,
      "metadata": {
        "id": "vAvikgp__oIX"
      },
      "outputs": [],
      "source": [
        "# Compute the mean along the third dimension."
      ]
    },
    {
      "cell_type": "markdown",
      "metadata": {
        "id": "wpxLYuqP_oIX"
      },
      "source": [
        "# 10. Combining Tensor Operations"
      ]
    },
    {
      "cell_type": "code",
      "execution_count": null,
      "metadata": {
        "id": "JhFzyqHE_oIY"
      },
      "outputs": [],
      "source": [
        "# Create two tensors tensor_a and tensor_b of shape (2, 3, 4) with random values."
      ]
    },
    {
      "cell_type": "code",
      "execution_count": null,
      "metadata": {
        "id": "33aP1ma3_oIY"
      },
      "outputs": [],
      "source": [
        "# Add the two tensors."
      ]
    },
    {
      "cell_type": "code",
      "execution_count": null,
      "metadata": {
        "id": "z37WR9j0_oIZ"
      },
      "outputs": [],
      "source": [
        "# Multiply the resulting tensor by 2."
      ]
    },
    {
      "cell_type": "code",
      "execution_count": null,
      "metadata": {
        "id": "ksLT7D6Q_oIZ"
      },
      "outputs": [],
      "source": [
        "# Reshape the tensor to (4, 6)."
      ]
    },
    {
      "cell_type": "code",
      "execution_count": null,
      "metadata": {
        "id": "EVkzBiXd_oIZ"
      },
      "outputs": [],
      "source": [
        "# Compute the sum along the columns."
      ]
    },
    {
      "cell_type": "markdown",
      "metadata": {
        "id": "znHrRafA_oIZ"
      },
      "source": [
        "-------------------------------------------- END ----------------------------------------------"
      ]
    }
  ],
  "metadata": {
    "kernelspec": {
      "display_name": "pytorch_env",
      "language": "python",
      "name": "python3"
    },
    "language_info": {
      "codemirror_mode": {
        "name": "ipython",
        "version": 3
      },
      "file_extension": ".py",
      "mimetype": "text/x-python",
      "name": "python",
      "nbconvert_exporter": "python",
      "pygments_lexer": "ipython3",
      "version": "3.10.14"
    },
    "colab": {
      "provenance": []
    }
  },
  "nbformat": 4,
  "nbformat_minor": 0
}