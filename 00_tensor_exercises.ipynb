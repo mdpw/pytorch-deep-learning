{
  "cells": [
    {
      "cell_type": "markdown",
      "metadata": {
        "id": "view-in-github",
        "colab_type": "text"
      },
      "source": [
        "<a href=\"https://colab.research.google.com/github/mdpw/pytorch-deep-learning/blob/main/00_tensor_exercises.ipynb\" target=\"_parent\"><img src=\"https://colab.research.google.com/assets/colab-badge.svg\" alt=\"Open In Colab\"/></a>"
      ]
    },
    {
      "cell_type": "code",
      "execution_count": 62,
      "metadata": {
        "id": "PjGfJ7MN_oIN"
      },
      "outputs": [],
      "source": [
        "# Sumani\n",
        "# 20-7-2024\n",
        "\n",
        "# Modifyied by M.D.P. Wijesuriya\n",
        "# 18-7-2025"
      ]
    },
    {
      "cell_type": "markdown",
      "metadata": {
        "id": "qGWxcXX7_oIO"
      },
      "source": [
        "# Tensor Exercises"
      ]
    },
    {
      "cell_type": "code",
      "source": [
        "import torch"
      ],
      "metadata": {
        "id": "1qxjaWNr6mBG"
      },
      "execution_count": 63,
      "outputs": []
    },
    {
      "cell_type": "markdown",
      "metadata": {
        "id": "X8lZFGRW_oIP"
      },
      "source": [
        "# 1. Tensor Creation"
      ]
    },
    {
      "cell_type": "code",
      "execution_count": 64,
      "metadata": {
        "colab": {
          "base_uri": "https://localhost:8080/"
        },
        "id": "7m1nuri6_oIP",
        "outputId": "e5ccdce2-b99e-46da-cafb-12e2eb4f5d68"
      },
      "outputs": [
        {
          "output_type": "stream",
          "name": "stdout",
          "text": [
            "Tensor of shape (5, 3):\n",
            "tensor([[0.3774, 0.6274, 0.9751],\n",
            "        [0.6379, 0.9331, 0.0598],\n",
            "        [0.1974, 0.1095, 0.4987],\n",
            "        [0.8167, 0.8424, 0.5664],\n",
            "        [0.0755, 0.7559, 0.2226]])\n"
          ]
        }
      ],
      "source": [
        "# Create a tensor of shape (5, 3) filled with random values.\n",
        "tensor = torch.rand(5, 3)\n",
        "\n",
        "print(\"Tensor of shape (5, 3):\")\n",
        "print(tensor)"
      ]
    },
    {
      "cell_type": "code",
      "execution_count": 65,
      "metadata": {
        "colab": {
          "base_uri": "https://localhost:8080/"
        },
        "id": "DSLRj-nX_oIP",
        "outputId": "8b762f04-8b5a-4f5b-9ec7-5776edfa11ce"
      },
      "outputs": [
        {
          "output_type": "stream",
          "name": "stdout",
          "text": [
            "Tensor of shape (2, 4) filled with ones:\n",
            "tensor([[1., 1., 1., 1.],\n",
            "        [1., 1., 1., 1.]])\n"
          ]
        }
      ],
      "source": [
        "# Create a tensor of shape (2, 4) filled with ones.\n",
        "tensor = torch.ones(2, 4)\n",
        "\n",
        "print(\"Tensor of shape (2, 4) filled with ones:\")\n",
        "print(tensor)"
      ]
    },
    {
      "cell_type": "code",
      "execution_count": 66,
      "metadata": {
        "colab": {
          "base_uri": "https://localhost:8080/"
        },
        "id": "OFTr0x-2_oIP",
        "outputId": "9e734a84-0e57-45ca-dbc0-e1295ab1ac91"
      },
      "outputs": [
        {
          "output_type": "stream",
          "name": "stdout",
          "text": [
            "Tensor from list:\n",
            "tensor([ 5, 10, 15, 20])\n"
          ]
        }
      ],
      "source": [
        "# Create a tensor from a list [5, 10, 15, 20].\n",
        "tensor = torch.tensor([5, 10, 15, 20])\n",
        "\n",
        "print(\"Tensor from list:\")\n",
        "print(tensor)"
      ]
    },
    {
      "cell_type": "code",
      "execution_count": 67,
      "metadata": {
        "colab": {
          "base_uri": "https://localhost:8080/"
        },
        "id": "YTPeHwCt_oIQ",
        "outputId": "acdeb56f-ed56-42ae-8cca-06ccb2465ceb"
      },
      "outputs": [
        {
          "output_type": "stream",
          "name": "stdout",
          "text": [
            "Image Tensor shape: torch.Size([3, 6, 8])\n"
          ]
        }
      ],
      "source": [
        "# Create a tensor to represent an image that has width of 8, height of 6, and 3 channels.\n",
        "image_tensor = torch.rand(3, 6, 8)\n",
        "\n",
        "print(\"Image Tensor shape:\", image_tensor.shape)"
      ]
    },
    {
      "cell_type": "markdown",
      "metadata": {
        "id": "8TzUWqGh_oIQ"
      },
      "source": [
        "# 2. Tensor Indexing and Slicing"
      ]
    },
    {
      "cell_type": "code",
      "execution_count": 68,
      "metadata": {
        "colab": {
          "base_uri": "https://localhost:8080/"
        },
        "id": "No2u7qrK_oIQ",
        "outputId": "e6f4a3fb-2860-4e43-b3d6-38cb03328888"
      },
      "outputs": [
        {
          "output_type": "stream",
          "name": "stdout",
          "text": [
            "Tensor of shape (3, 4) with values from 10 to 21:\n",
            "tensor([[10, 11, 12, 13],\n",
            "        [14, 15, 16, 17],\n",
            "        [18, 19, 20, 21]])\n"
          ]
        }
      ],
      "source": [
        "# Create a tensor tensor of shape (3, 4) with values ranging from 10 to 22.\n",
        "# Create a 1D tensor with values from 10 to 21 (22 is exclusive)\n",
        "values = torch.arange(10, 22)\n",
        "\n",
        "# Reshape it to (3, 4)\n",
        "tensor = values.reshape(3, 4)\n",
        "\n",
        "print(\"Tensor of shape (3, 4) with values from 10 to 21:\")\n",
        "print(tensor)"
      ]
    },
    {
      "cell_type": "code",
      "source": [
        "image_tensor"
      ],
      "metadata": {
        "colab": {
          "base_uri": "https://localhost:8080/"
        },
        "id": "xahsBWWG8Fqh",
        "outputId": "d40897cf-d075-421b-941c-22c5453354d5"
      },
      "execution_count": 69,
      "outputs": [
        {
          "output_type": "execute_result",
          "data": {
            "text/plain": [
              "tensor([[[0.1468, 0.4418, 0.7201, 0.4644, 0.1974, 0.8120, 0.3585, 0.5030],\n",
              "         [0.6882, 0.6288, 0.6238, 0.8276, 0.2552, 0.6281, 0.5467, 0.9461],\n",
              "         [0.0261, 0.8799, 0.3401, 0.7054, 0.8036, 0.0272, 0.4313, 0.5100],\n",
              "         [0.7962, 0.8004, 0.2682, 0.3713, 0.2923, 0.7503, 0.2495, 0.4502],\n",
              "         [0.1479, 0.9878, 0.9123, 0.0496, 0.9318, 0.1190, 0.1116, 0.2752],\n",
              "         [0.2992, 0.3866, 0.5519, 0.0487, 0.1780, 0.0879, 0.8450, 0.4134]],\n",
              "\n",
              "        [[0.6487, 0.4961, 0.7969, 0.0702, 0.4220, 0.6206, 0.0056, 0.3519],\n",
              "         [0.9625, 0.2422, 0.9978, 0.3364, 0.2195, 0.2669, 0.0193, 0.4124],\n",
              "         [0.2002, 0.8847, 0.7258, 0.6132, 0.5966, 0.3645, 0.8214, 0.8529],\n",
              "         [0.2051, 0.0081, 0.0256, 0.3067, 0.2901, 0.5587, 0.9817, 0.4109],\n",
              "         [0.3467, 0.9554, 0.9772, 0.2565, 0.3365, 0.9598, 0.8912, 0.0908],\n",
              "         [0.4578, 0.1829, 0.7618, 0.5014, 0.0326, 0.3404, 0.4250, 0.2244]],\n",
              "\n",
              "        [[0.6503, 0.2931, 0.5782, 0.1891, 0.1526, 0.6105, 0.5137, 0.4549],\n",
              "         [0.7894, 0.3836, 0.2552, 0.7374, 0.2784, 0.2357, 0.6989, 0.6046],\n",
              "         [0.7834, 0.1236, 0.7047, 0.2913, 0.4167, 0.2671, 0.5393, 0.2574],\n",
              "         [0.9078, 0.7191, 0.2497, 0.8636, 0.9076, 0.1265, 0.6194, 0.5609],\n",
              "         [0.2670, 0.8993, 0.4314, 0.5452, 0.9239, 0.1481, 0.9159, 0.7983],\n",
              "         [0.6766, 0.9626, 0.9689, 0.9887, 0.0868, 0.4559, 0.8787, 0.7899]]])"
            ]
          },
          "metadata": {},
          "execution_count": 69
        }
      ]
    },
    {
      "cell_type": "code",
      "execution_count": 70,
      "metadata": {
        "colab": {
          "base_uri": "https://localhost:8080/"
        },
        "id": "QCkNnnB8_oIQ",
        "outputId": "006ae0a2-0b4a-442a-f6a3-a2ebaaf07c2a"
      },
      "outputs": [
        {
          "output_type": "stream",
          "name": "stdout",
          "text": [
            "Element at channel 0, row 1, column 2: tensor(0.6238)\n"
          ]
        }
      ],
      "source": [
        "# Access the element at the second row, third column.\n",
        "element = image_tensor[0, 1, 2]\n",
        "print(\"Element at channel 0, row 1, column 2:\", element)"
      ]
    },
    {
      "cell_type": "code",
      "execution_count": 71,
      "metadata": {
        "colab": {
          "base_uri": "https://localhost:8080/"
        },
        "id": "kRwNmnut_oIQ",
        "outputId": "da36ef4b-9d89-4ffc-9589-6b3882dd9470"
      },
      "outputs": [
        {
          "output_type": "stream",
          "name": "stdout",
          "text": [
            "Second row (across all channels):\n",
            "tensor([[0.6882, 0.6288, 0.6238, 0.8276, 0.2552, 0.6281, 0.5467, 0.9461],\n",
            "        [0.9625, 0.2422, 0.9978, 0.3364, 0.2195, 0.2669, 0.0193, 0.4124],\n",
            "        [0.7894, 0.3836, 0.2552, 0.7374, 0.2784, 0.2357, 0.6989, 0.6046]])\n"
          ]
        }
      ],
      "source": [
        "# Print the second row.\n",
        "second_row = image_tensor[:, 1, :]  # This means All channels, row 1, all columns\n",
        "print(\"Second row (across all channels):\")\n",
        "print(second_row)"
      ]
    },
    {
      "cell_type": "code",
      "execution_count": 72,
      "metadata": {
        "colab": {
          "base_uri": "https://localhost:8080/"
        },
        "id": "9J8duzB5_oIQ",
        "outputId": "6be47891-4e6c-41ed-d4f6-4c0e6b3495db"
      },
      "outputs": [
        {
          "output_type": "stream",
          "name": "stdout",
          "text": [
            "First two columns (across all rows and channels):\n",
            "tensor([[[0.1468, 0.4418],\n",
            "         [0.6882, 0.6288],\n",
            "         [0.0261, 0.8799],\n",
            "         [0.7962, 0.8004],\n",
            "         [0.1479, 0.9878],\n",
            "         [0.2992, 0.3866]],\n",
            "\n",
            "        [[0.6487, 0.4961],\n",
            "         [0.9625, 0.2422],\n",
            "         [0.2002, 0.8847],\n",
            "         [0.2051, 0.0081],\n",
            "         [0.3467, 0.9554],\n",
            "         [0.4578, 0.1829]],\n",
            "\n",
            "        [[0.6503, 0.2931],\n",
            "         [0.7894, 0.3836],\n",
            "         [0.7834, 0.1236],\n",
            "         [0.9078, 0.7191],\n",
            "         [0.2670, 0.8993],\n",
            "         [0.6766, 0.9626]]])\n"
          ]
        }
      ],
      "source": [
        "# Print the first two columns.\n",
        "first_two_columns = image_tensor[:, :, :2]  # This means All channels, all rows, first 2 columns\n",
        "print(\"First two columns (across all rows and channels):\")\n",
        "print(first_two_columns)"
      ]
    },
    {
      "cell_type": "markdown",
      "metadata": {
        "id": "piZEIKjo_oIQ"
      },
      "source": [
        "# 3. Tensor Arithmetic Operations"
      ]
    },
    {
      "cell_type": "code",
      "execution_count": 73,
      "metadata": {
        "colab": {
          "base_uri": "https://localhost:8080/"
        },
        "id": "hRjK8pH__oIQ",
        "outputId": "12ee31cf-27d1-49c9-a2fc-8bb69f50a5a0"
      },
      "outputs": [
        {
          "output_type": "stream",
          "name": "stdout",
          "text": [
            "tensor a:\n",
            "tensor([[0.3073, 0.1653, 0.4811],\n",
            "        [0.1101, 0.3285, 0.7805],\n",
            "        [0.8020, 0.2676, 0.2895]])\n",
            "\n",
            "\n",
            "tensor b:\n",
            "tensor([[0.3193, 0.6618, 0.4418],\n",
            "        [0.3361, 0.8868, 0.6629],\n",
            "        [0.1743, 0.9746, 0.9745]])\n"
          ]
        }
      ],
      "source": [
        "# Create two tensors tensor_a and tensor_b of shape (3, 3) with random values.\n",
        "tensor_a = torch.rand(3, 3)\n",
        "tensor_b = torch.rand(3, 3)\n",
        "\n",
        "print(\"tensor a:\")\n",
        "print(tensor_a)\n",
        "\n",
        "print(\"\\n\")\n",
        "\n",
        "print(\"tensor b:\")\n",
        "print(tensor_b)"
      ]
    },
    {
      "cell_type": "code",
      "execution_count": 74,
      "metadata": {
        "colab": {
          "base_uri": "https://localhost:8080/"
        },
        "id": "GWwjWvxu_oIQ",
        "outputId": "30eebf40-0902-41db-b5ec-88d145ef4b40"
      },
      "outputs": [
        {
          "output_type": "stream",
          "name": "stdout",
          "text": [
            "\n",
            "Element-wise addition result:\n",
            "tensor([[0.6266, 0.8271, 0.9229],\n",
            "        [0.4462, 1.2153, 1.4434],\n",
            "        [0.9763, 1.2422, 1.2640]])\n"
          ]
        }
      ],
      "source": [
        "# Perform element-wise addition.\n",
        "result = tensor_a + tensor_b\n",
        "\n",
        "print(\"\\nElement-wise addition result:\")\n",
        "print(result)"
      ]
    },
    {
      "cell_type": "code",
      "execution_count": 75,
      "metadata": {
        "colab": {
          "base_uri": "https://localhost:8080/"
        },
        "id": "RPcX3tId_oIR",
        "outputId": "e09883ed-36d1-49a9-a2f3-d4df7910f233"
      },
      "outputs": [
        {
          "output_type": "stream",
          "name": "stdout",
          "text": [
            "\n",
            "Element-wise multiplication result:\n",
            "tensor([[0.0981, 0.1094, 0.2125],\n",
            "        [0.0370, 0.2913, 0.5174],\n",
            "        [0.1398, 0.2608, 0.2821]])\n"
          ]
        }
      ],
      "source": [
        "# Perform element-wise multiplication.\n",
        "result = tensor_a * tensor_b\n",
        "\n",
        "print(\"\\nElement-wise multiplication result:\")\n",
        "print(result)"
      ]
    },
    {
      "cell_type": "code",
      "execution_count": 76,
      "metadata": {
        "colab": {
          "base_uri": "https://localhost:8080/"
        },
        "id": "37rJUozJ_oIR",
        "outputId": "954ce20c-ff45-40a8-83b6-da4112c339be"
      },
      "outputs": [
        {
          "output_type": "stream",
          "name": "stdout",
          "text": [
            "\n",
            "Result of tensor_a - tensor_b:\n",
            "tensor([[-0.0119, -0.4966,  0.0393],\n",
            "        [-0.2261, -0.5583,  0.1175],\n",
            "        [ 0.6277, -0.7070, -0.6850]])\n"
          ]
        }
      ],
      "source": [
        "# Subtract tensor_b from tensor_a.\n",
        "result = tensor_a - tensor_b\n",
        "\n",
        "print(\"\\nResult of tensor_a - tensor_b:\")\n",
        "print(result)"
      ]
    },
    {
      "cell_type": "markdown",
      "metadata": {
        "id": "QQ1Ndt5k_oIR"
      },
      "source": [
        "# 4. Tensor Aggregation Operations"
      ]
    },
    {
      "cell_type": "code",
      "execution_count": 77,
      "metadata": {
        "colab": {
          "base_uri": "https://localhost:8080/"
        },
        "id": "wlQxxKn8_oIR",
        "outputId": "485c1043-43b8-46dc-b173-195351258ef5"
      },
      "outputs": [
        {
          "output_type": "stream",
          "name": "stdout",
          "text": [
            "Tensor of shape (3, 3) with values from 1 to 9:\n",
            "tensor([[1, 2, 3],\n",
            "        [4, 5, 6],\n",
            "        [7, 8, 9]])\n"
          ]
        }
      ],
      "source": [
        "# Create a tensor tensor of shape (3, 3) with values ranging from 1 to 9.\n",
        "# Create a 1D tensor with values from 1 to 9 (inclusive)\n",
        "values = torch.arange(1, 10)\n",
        "\n",
        "# Reshape it to (3, 3)\n",
        "tensor = values.reshape(3, 3)\n",
        "\n",
        "print(\"Tensor of shape (3, 3) with values from 1 to 9:\")\n",
        "print(tensor)"
      ]
    },
    {
      "cell_type": "code",
      "execution_count": 78,
      "metadata": {
        "colab": {
          "base_uri": "https://localhost:8080/"
        },
        "id": "7eoNDZuP_oIR",
        "outputId": "bf232da1-5b90-403b-9d61-00e96e8fbadf"
      },
      "outputs": [
        {
          "output_type": "stream",
          "name": "stdout",
          "text": [
            "\n",
            "Sum of all elements: 45\n"
          ]
        }
      ],
      "source": [
        "# Compute the sum of all elements.\n",
        "total_sum = tensor.sum()\n",
        "\n",
        "print(\"\\nSum of all elements:\", total_sum.item())"
      ]
    },
    {
      "cell_type": "code",
      "execution_count": 79,
      "metadata": {
        "colab": {
          "base_uri": "https://localhost:8080/"
        },
        "id": "Lde797CY_oIR",
        "outputId": "e024ac9f-3315-4b74-fa2c-6d34944816b1"
      },
      "outputs": [
        {
          "output_type": "stream",
          "name": "stdout",
          "text": [
            "\n",
            "Mean of all elements: 5.0\n"
          ]
        }
      ],
      "source": [
        "# Compute the mean of all elements.\n",
        "tensor = torch.arange(1, 10).reshape(3, 3).float()  # convert to float for mean\n",
        "\n",
        "mean_value = tensor.mean()\n",
        "\n",
        "print(\"\\nMean of all elements:\", mean_value.item())"
      ]
    },
    {
      "cell_type": "code",
      "execution_count": 80,
      "metadata": {
        "colab": {
          "base_uri": "https://localhost:8080/"
        },
        "id": "HsQaaSAm_oIR",
        "outputId": "be8801b1-5356-4dd2-cbf0-3af53f0bf751"
      },
      "outputs": [
        {
          "output_type": "stream",
          "name": "stdout",
          "text": [
            "\n",
            "Maximum value: 9\n",
            "Minimum value: 1\n"
          ]
        }
      ],
      "source": [
        "# Find the maximum and minimum values.\n",
        "tensor = torch.arange(1, 10).reshape(3, 3)\n",
        "\n",
        "# Find maximum and minimum values\n",
        "max_value = tensor.max()\n",
        "min_value = tensor.min()\n",
        "\n",
        "print(\"\\nMaximum value:\", max_value.item())\n",
        "print(\"Minimum value:\", min_value.item())"
      ]
    },
    {
      "cell_type": "code",
      "execution_count": 81,
      "metadata": {
        "colab": {
          "base_uri": "https://localhost:8080/"
        },
        "id": "6TfWdojV_oIR",
        "outputId": "55616833-2da7-4724-b4c6-47a5b09bf69c"
      },
      "outputs": [
        {
          "output_type": "stream",
          "name": "stdout",
          "text": [
            "\n",
            "Sum along the rows:\n",
            "tensor([ 6, 15, 24])\n"
          ]
        }
      ],
      "source": [
        "# Compute the sum along the rows.\n",
        "row_sums = tensor.sum(dim=1)\n",
        "\n",
        "print(\"\\nSum along the rows:\")\n",
        "print(row_sums)"
      ]
    },
    {
      "cell_type": "code",
      "execution_count": 82,
      "metadata": {
        "colab": {
          "base_uri": "https://localhost:8080/"
        },
        "id": "RAW9fxwn_oIR",
        "outputId": "afc97c4e-df29-4482-805b-a56afcfb7308"
      },
      "outputs": [
        {
          "output_type": "stream",
          "name": "stdout",
          "text": [
            "\n",
            "Mean along the columns:\n",
            "tensor([4., 5., 6.])\n"
          ]
        }
      ],
      "source": [
        "# Create the tensor with values 1 to 9 and convert to float\n",
        "tensor = torch.arange(1, 10).reshape(3, 3).float()\n",
        "\n",
        "# Compute the mean along the columns.\n",
        "column_means = tensor.mean(dim=0)\n",
        "\n",
        "print(\"\\nMean along the columns:\")\n",
        "print(column_means)"
      ]
    },
    {
      "cell_type": "markdown",
      "metadata": {
        "id": "3mYLie6L_oIR"
      },
      "source": [
        "# 5. Tensor Reshaping Operations"
      ]
    },
    {
      "cell_type": "code",
      "execution_count": 83,
      "metadata": {
        "colab": {
          "base_uri": "https://localhost:8080/"
        },
        "id": "19pt6_9m_oIR",
        "outputId": "4047bac2-728a-4bfe-b21e-b976a9c52589"
      },
      "outputs": [
        {
          "output_type": "stream",
          "name": "stdout",
          "text": [
            "Tensor of shape (2, 3, 4) with random values:\n",
            "tensor([[[0.5725, 0.5271, 0.8191, 0.6934],\n",
            "         [0.4049, 0.4073, 0.1077, 0.9587],\n",
            "         [0.9150, 0.2209, 0.6163, 0.3193]],\n",
            "\n",
            "        [[0.3568, 0.1828, 0.9062, 0.1948],\n",
            "         [0.7745, 0.8278, 0.1922, 0.5391],\n",
            "         [0.7121, 0.3895, 0.5115, 0.9452]]])\n"
          ]
        }
      ],
      "source": [
        "# Create a tensor tensor of shape (2, 3, 4) with random values.\n",
        "tensor = torch.rand(2, 3, 4)\n",
        "\n",
        "print(\"Tensor of shape (2, 3, 4) with random values:\")\n",
        "print(tensor)"
      ]
    },
    {
      "cell_type": "code",
      "execution_count": 84,
      "metadata": {
        "colab": {
          "base_uri": "https://localhost:8080/"
        },
        "id": "64K3JjnQ_oIR",
        "outputId": "72b434d4-80a5-4dc0-ac71-d59933e0b036"
      },
      "outputs": [
        {
          "output_type": "stream",
          "name": "stdout",
          "text": [
            "Original tensor shape: torch.Size([2, 3, 4])\n",
            "Reshaped tensor shape: torch.Size([4, 6])\n",
            "\n",
            "Reshaped Tensor:\n",
            "tensor([[0.5725, 0.5271, 0.8191, 0.6934, 0.4049, 0.4073],\n",
            "        [0.1077, 0.9587, 0.9150, 0.2209, 0.6163, 0.3193],\n",
            "        [0.3568, 0.1828, 0.9062, 0.1948, 0.7745, 0.8278],\n",
            "        [0.1922, 0.5391, 0.7121, 0.3895, 0.5115, 0.9452]])\n"
          ]
        }
      ],
      "source": [
        "# Reshape the tensor to (4, 6).\n",
        "reshaped_tensor = tensor.reshape(4, 6)\n",
        "\n",
        "print(\"Original tensor shape:\", tensor.shape)\n",
        "print(\"Reshaped tensor shape:\", reshaped_tensor.shape)\n",
        "print(\"\\nReshaped Tensor:\")\n",
        "print(reshaped_tensor)"
      ]
    },
    {
      "cell_type": "code",
      "execution_count": 85,
      "metadata": {
        "colab": {
          "base_uri": "https://localhost:8080/"
        },
        "id": "2wMAad1Q_oIR",
        "outputId": "5ed28a14-ddf0-4e84-b7b6-a31023a025c4"
      },
      "outputs": [
        {
          "output_type": "stream",
          "name": "stdout",
          "text": [
            "Original shape: torch.Size([2, 3, 4])\n",
            "Transposed shape: torch.Size([3, 2, 4])\n",
            "\n",
            "Transposed Tensor:\n",
            "tensor([[[0.5725, 0.5271, 0.8191, 0.6934],\n",
            "         [0.3568, 0.1828, 0.9062, 0.1948]],\n",
            "\n",
            "        [[0.4049, 0.4073, 0.1077, 0.9587],\n",
            "         [0.7745, 0.8278, 0.1922, 0.5391]],\n",
            "\n",
            "        [[0.9150, 0.2209, 0.6163, 0.3193],\n",
            "         [0.7121, 0.3895, 0.5115, 0.9452]]])\n"
          ]
        }
      ],
      "source": [
        "# Transpose the tensor (swap the first and second dimensions).\n",
        "transposed_tensor = tensor.transpose(0, 1)\n",
        "\n",
        "print(\"Original shape:\", tensor.shape)\n",
        "print(\"Transposed shape:\", transposed_tensor.shape)\n",
        "print(\"\\nTransposed Tensor:\")\n",
        "print(transposed_tensor)"
      ]
    },
    {
      "cell_type": "code",
      "execution_count": 86,
      "metadata": {
        "colab": {
          "base_uri": "https://localhost:8080/"
        },
        "id": "Q6aMdw4C_oIR",
        "outputId": "8c6648b1-3377-4885-d5ba-1724d0876c25"
      },
      "outputs": [
        {
          "output_type": "stream",
          "name": "stdout",
          "text": [
            "Original shape: torch.Size([2, 3, 4])\n",
            "Flattened shape: torch.Size([24])\n",
            "\n",
            "Flattened Tensor:\n",
            "tensor([0.5725, 0.5271, 0.8191, 0.6934, 0.4049, 0.4073, 0.1077, 0.9587, 0.9150,\n",
            "        0.2209, 0.6163, 0.3193, 0.3568, 0.1828, 0.9062, 0.1948, 0.7745, 0.8278,\n",
            "        0.1922, 0.5391, 0.7121, 0.3895, 0.5115, 0.9452])\n"
          ]
        }
      ],
      "source": [
        "# Flatten the tensor to a 1D tensor.\n",
        "flattened_tensor = tensor.view(-1)\n",
        "\n",
        "print(\"Original shape:\", tensor.shape)\n",
        "print(\"Flattened shape:\", flattened_tensor.shape)\n",
        "print(\"\\nFlattened Tensor:\")\n",
        "print(flattened_tensor)"
      ]
    },
    {
      "cell_type": "markdown",
      "metadata": {
        "id": "ZG3TTe1G_oIR"
      },
      "source": [
        "# 6. Tensor Broadcasting"
      ]
    },
    {
      "cell_type": "code",
      "execution_count": 87,
      "metadata": {
        "colab": {
          "base_uri": "https://localhost:8080/"
        },
        "id": "VuMy9svO_oIR",
        "outputId": "41fc2836-9a43-47e3-bb07-219ac5f00560"
      },
      "outputs": [
        {
          "output_type": "stream",
          "name": "stdout",
          "text": [
            "tensor_a:\n",
            "tensor([[1, 2, 3],\n",
            "        [4, 5, 6]])\n"
          ]
        }
      ],
      "source": [
        "# Create a tensor tensor_a of shape (2, 3) with values ranging from 1 to 6.\n",
        "tensor_a = torch.arange(1, 7).reshape(2, 3)\n",
        "\n",
        "print(\"tensor_a:\")\n",
        "print(tensor_a)"
      ]
    },
    {
      "cell_type": "code",
      "execution_count": 88,
      "metadata": {
        "colab": {
          "base_uri": "https://localhost:8080/"
        },
        "id": "oEadc1NT_oIS",
        "outputId": "fe5ea627-1f8c-4653-c5ba-698841bb2be6"
      },
      "outputs": [
        {
          "output_type": "stream",
          "name": "stdout",
          "text": [
            "tensor_b:\n",
            "tensor([[1, 2, 3]])\n",
            "Shape: torch.Size([1, 3])\n"
          ]
        }
      ],
      "source": [
        "# Create a tensor tensor_b of shape (1, 3) with values [1, 2, 3].\n",
        "tensor_b = torch.tensor([[1, 2, 3]])\n",
        "\n",
        "print(\"tensor_b:\")\n",
        "print(tensor_b)\n",
        "print(\"Shape:\", tensor_b.shape)"
      ]
    },
    {
      "cell_type": "code",
      "execution_count": 89,
      "metadata": {
        "colab": {
          "base_uri": "https://localhost:8080/"
        },
        "id": "lTisv_AW_oIS",
        "outputId": "f3c2ec9d-29e0-41db-f5c0-dcc1e3cbda64"
      },
      "outputs": [
        {
          "output_type": "stream",
          "name": "stdout",
          "text": [
            "\n",
            "Result of broadcasting addition:\n",
            "tensor([[2, 4, 6],\n",
            "        [5, 7, 9]])\n"
          ]
        }
      ],
      "source": [
        "# Perform broadcasting addition.\n",
        "result = tensor_a + tensor_b\n",
        "\n",
        "print(\"\\nResult of broadcasting addition:\")\n",
        "print(result)"
      ]
    },
    {
      "cell_type": "code",
      "execution_count": 90,
      "metadata": {
        "colab": {
          "base_uri": "https://localhost:8080/"
        },
        "id": "nd00hpQe_oIS",
        "outputId": "d277401d-e321-4d56-b29f-9c4e14b6c0f8"
      },
      "outputs": [
        {
          "output_type": "stream",
          "name": "stdout",
          "text": [
            "tensor_c:\n",
            "tensor([[1],\n",
            "        [2],\n",
            "        [3]])\n",
            "Shape: torch.Size([3, 1])\n"
          ]
        }
      ],
      "source": [
        "# Create a tensor tensor_c of shape (3, 1) with values [1, 2, 3].\n",
        "tensor_c = torch.tensor([[1], [2], [3]])\n",
        "\n",
        "print(\"tensor_c:\")\n",
        "print(tensor_c)\n",
        "print(\"Shape:\", tensor_c.shape)"
      ]
    },
    {
      "cell_type": "code",
      "execution_count": 91,
      "metadata": {
        "colab": {
          "base_uri": "https://localhost:8080/"
        },
        "id": "4XeFlpHA_oIS",
        "outputId": "d5892378-26a1-4509-f51d-60f169df8a04"
      },
      "outputs": [
        {
          "output_type": "stream",
          "name": "stdout",
          "text": [
            "tensor_a:\n",
            "tensor([[1, 2, 3],\n",
            "        [4, 5, 6]])\n",
            "\n",
            "tensor_c.T:\n",
            "tensor([[1, 2, 3]])\n",
            "\n",
            "Broadcasting multiplication result:\n",
            "tensor([[ 1,  4,  9],\n",
            "        [ 4, 10, 18]])\n"
          ]
        }
      ],
      "source": [
        "# Perform broadcasting multiplication.\n",
        "# Shapes are not directly broadcastable because broadcasting compares dimensions from the right side. So transpose tensor_c to (1,3)\n",
        "tensor_c_T = tensor_c.T\n",
        "\n",
        "result = tensor_a * tensor_c_T\n",
        "\n",
        "print(\"tensor_a:\")\n",
        "print(tensor_a)\n",
        "\n",
        "print(\"\\ntensor_c.T:\")\n",
        "print(tensor_c_T)\n",
        "\n",
        "print(\"\\nBroadcasting multiplication result:\")\n",
        "print(result)"
      ]
    },
    {
      "cell_type": "markdown",
      "metadata": {
        "id": "Z7KhuqnK_oIS"
      },
      "source": [
        "# 7. Tensor Device Management"
      ]
    },
    {
      "cell_type": "code",
      "execution_count": 92,
      "metadata": {
        "colab": {
          "base_uri": "https://localhost:8080/"
        },
        "id": "4Qg4YK0q_oIS",
        "outputId": "497fe863-8da0-42a5-c120-e2d22acba415"
      },
      "outputs": [
        {
          "output_type": "stream",
          "name": "stdout",
          "text": [
            "tensor([[0.4456, 0.4421, 0.8628],\n",
            "        [0.7061, 0.1925, 0.9936],\n",
            "        [0.2243, 0.4233, 0.7045]])\n"
          ]
        }
      ],
      "source": [
        "# Create a tensor of shape (3, 3) with random values and move it to GPU (if available).\n",
        "tensor = torch.rand(3, 3)\n",
        "\n",
        "# Check if CUDA (GPU) is available\n",
        "device = torch.device(\"cuda\" if torch.cuda.is_available() else \"cpu\")\n",
        "\n",
        "# Move tensor to the selected device (GPU or CPU)\n",
        "tensor = tensor.to(device)\n",
        "\n",
        "print(tensor)"
      ]
    },
    {
      "cell_type": "code",
      "execution_count": 93,
      "metadata": {
        "colab": {
          "base_uri": "https://localhost:8080/"
        },
        "id": "XOf1RDzi_oIS",
        "outputId": "6d154a10-5e54-46ab-de2a-bfa201acafbe"
      },
      "outputs": [
        {
          "output_type": "stream",
          "name": "stdout",
          "text": [
            "Tensor device: cpu\n",
            "tensor([[0.4456, 0.4421, 0.8628],\n",
            "        [0.7061, 0.1925, 0.9936],\n",
            "        [0.2243, 0.4233, 0.7045]])\n"
          ]
        }
      ],
      "source": [
        "# Verify if the tensor is on GPU.\n",
        "print(f\"Tensor device: {tensor.device}\")\n",
        "\n",
        "# Move the tensor back to CPU.\n",
        "tensor = tensor.to(\"cpu\")\n",
        "\n",
        "print(tensor)"
      ]
    },
    {
      "cell_type": "markdown",
      "metadata": {
        "id": "3ckIXQr1_oIS"
      },
      "source": [
        "# 8. Tensor Cloning and Detaching"
      ]
    },
    {
      "cell_type": "code",
      "execution_count": 94,
      "metadata": {
        "id": "XOGAB9F4_oIW"
      },
      "outputs": [],
      "source": [
        "# Create a tensor tensor of shape (3,) with values [1, 2, 3] and set requires_grad=True.\n",
        "tensor = torch.tensor([1, 2, 3], dtype=torch.float32, requires_grad=True)"
      ]
    },
    {
      "cell_type": "code",
      "execution_count": 95,
      "metadata": {
        "id": "maEl7saJ_oIX",
        "outputId": "5fcfe3d2-6bb5-4656-d8f1-ac4d9f701aad",
        "colab": {
          "base_uri": "https://localhost:8080/"
        }
      },
      "outputs": [
        {
          "output_type": "stream",
          "name": "stdout",
          "text": [
            "tensor([1., 2., 3.], grad_fn=<CloneBackward0>)\n"
          ]
        }
      ],
      "source": [
        "# Clone the tensor and print the cloned tensor.\n",
        "cloned_tensor = tensor.clone()\n",
        "print(cloned_tensor)"
      ]
    },
    {
      "cell_type": "code",
      "execution_count": 96,
      "metadata": {
        "id": "lWDpHRfF_oIX",
        "outputId": "7f5ae595-b74c-464e-b3fa-b160f43cb3e8",
        "colab": {
          "base_uri": "https://localhost:8080/"
        }
      },
      "outputs": [
        {
          "output_type": "stream",
          "name": "stdout",
          "text": [
            "tensor([1., 2., 3.])\n"
          ]
        }
      ],
      "source": [
        "# Detach the tensor from the computation graph and print the detached tensor.\n",
        "detached_tensor = tensor.detach()\n",
        "print(detached_tensor)"
      ]
    },
    {
      "cell_type": "markdown",
      "metadata": {
        "id": "aVJAQob2_oIX"
      },
      "source": [
        "# 9. High Dimensional Tensors"
      ]
    },
    {
      "cell_type": "code",
      "execution_count": 97,
      "metadata": {
        "id": "tekHyDtQ_oIX",
        "outputId": "46859f40-1756-4a6c-abf2-c89e2be3942f",
        "colab": {
          "base_uri": "https://localhost:8080/"
        }
      },
      "outputs": [
        {
          "output_type": "stream",
          "name": "stdout",
          "text": [
            "tensor([[[[ 0.1918, -1.9842, -1.7882, -1.4208, -0.2280],\n",
            "          [-0.3502,  0.3631,  1.8610, -1.5011, -0.0405],\n",
            "          [ 0.3554, -0.5713, -0.4315, -0.1894, -0.2981],\n",
            "          [-0.4809,  0.6559,  0.1832, -1.5149, -1.3097]],\n",
            "\n",
            "         [[-0.2736,  1.5771,  0.6698, -0.4922,  1.3049],\n",
            "          [-1.7567,  1.1471,  0.1442, -0.5884, -0.4794],\n",
            "          [ 1.1266,  0.1155,  1.2551,  1.2747,  0.3998],\n",
            "          [ 0.4657, -1.1628,  0.5956, -0.1514,  0.6051]],\n",
            "\n",
            "         [[ 0.7515, -0.0093,  0.8733,  1.2484,  0.4065],\n",
            "          [ 0.7122, -1.3921,  2.4039, -1.2796, -1.0356],\n",
            "          [ 0.2924,  1.1565,  0.0263,  0.0447,  0.0349],\n",
            "          [-0.3709,  0.1404, -0.6481, -0.5157,  1.1553]]],\n",
            "\n",
            "\n",
            "        [[[ 0.2705, -0.1764, -1.2838, -0.3402,  0.0235],\n",
            "          [-0.0259, -0.5550, -0.1858, -1.4379, -0.5541],\n",
            "          [-0.2312, -0.8074,  0.7491, -0.7662,  1.2157],\n",
            "          [ 1.9721,  0.2106, -1.0850,  2.4261,  0.1833]],\n",
            "\n",
            "         [[-0.6061, -1.4764, -1.5359, -0.1614, -0.0980],\n",
            "          [ 0.0913,  0.8215,  1.7259, -1.0823,  0.9138],\n",
            "          [ 0.3769, -2.0972,  0.1060, -1.6787,  0.7839],\n",
            "          [ 0.2069,  0.2066,  0.6427,  0.5119,  1.7404]],\n",
            "\n",
            "         [[-0.8461, -0.2821,  1.1861,  0.2598,  0.1920],\n",
            "          [ 1.5881, -1.2557, -0.1666, -0.3812,  0.2951],\n",
            "          [ 0.7888,  1.2879,  1.1852, -1.2230, -0.5363],\n",
            "          [ 0.6092, -1.2694,  0.4870, -0.3955,  0.5433]]]])\n"
          ]
        }
      ],
      "source": [
        "# Create a 4D tensor tensor of shape (2, 3, 4, 5) with random values.\n",
        "tensor_4d = torch.randn(2, 3, 4, 5)\n",
        "print(tensor_4d)"
      ]
    },
    {
      "cell_type": "code",
      "execution_count": 98,
      "metadata": {
        "id": "xQ7qrz8L_oIX",
        "outputId": "c1275f13-a579-4be4-9ebe-c95ab05fd81d",
        "colab": {
          "base_uri": "https://localhost:8080/"
        }
      },
      "outputs": [
        {
          "output_type": "stream",
          "name": "stdout",
          "text": [
            "torch.Size([2, 3, 4, 5])\n"
          ]
        }
      ],
      "source": [
        "# Print the shape of the tensor.\n",
        "print(tensor_4d.shape)"
      ]
    },
    {
      "cell_type": "code",
      "execution_count": 99,
      "metadata": {
        "id": "yeIh8vMq_oIX",
        "outputId": "78b981df-f164-4f24-c26c-9e517e6db8ff",
        "colab": {
          "base_uri": "https://localhost:8080/"
        }
      },
      "outputs": [
        {
          "output_type": "stream",
          "name": "stdout",
          "text": [
            "tensor(0.5433)\n"
          ]
        }
      ],
      "source": [
        "# Access the element at position (1, 2, 3, 4).\n",
        "element = tensor_4d[1, 2, 3, 4]\n",
        "print(element)"
      ]
    },
    {
      "cell_type": "code",
      "execution_count": 100,
      "metadata": {
        "id": "vSuDjS2k_oIX",
        "outputId": "61b31719-5b9e-4d49-f868-4a256cb07f2a",
        "colab": {
          "base_uri": "https://localhost:8080/"
        }
      },
      "outputs": [
        {
          "output_type": "stream",
          "name": "stdout",
          "text": [
            "tensor([[[[ 0.1918, -1.9842, -1.7882, -1.4208, -0.2280],\n",
            "          [-0.3502,  0.3631,  1.8610, -1.5011, -0.0405],\n",
            "          [ 0.3554, -0.5713, -0.4315, -0.1894, -0.2981],\n",
            "          [-0.4809,  0.6559,  0.1832, -1.5149, -1.3097]],\n",
            "\n",
            "         [[-0.2736,  1.5771,  0.6698, -0.4922,  1.3049],\n",
            "          [-1.7567,  1.1471,  0.1442, -0.5884, -0.4794],\n",
            "          [ 1.1266,  0.1155,  1.2551,  1.2747,  0.3998],\n",
            "          [ 0.4657, -1.1628,  0.5956, -0.1514,  0.6051]],\n",
            "\n",
            "         [[ 0.7515, -0.0093,  0.8733,  1.2484,  0.4065],\n",
            "          [ 0.7122, -1.3921,  2.4039, -1.2796, -1.0356],\n",
            "          [ 0.2924,  1.1565,  0.0263,  0.0447,  0.0349],\n",
            "          [-0.3709,  0.1404, -0.6481, -0.5157,  1.1553]]],\n",
            "\n",
            "\n",
            "        [[[ 0.2705, -0.1764, -1.2838, -0.3402,  0.0235],\n",
            "          [-0.0259, -0.5550, -0.1858, -1.4379, -0.5541],\n",
            "          [-0.2312, -0.8074,  0.7491, -0.7662,  1.2157],\n",
            "          [ 1.9721,  0.2106, -1.0850,  2.4261,  0.1833]],\n",
            "\n",
            "         [[-0.6061, -1.4764, -1.5359, -0.1614, -0.0980],\n",
            "          [ 0.0913,  0.8215,  1.7259, -1.0823,  0.9138],\n",
            "          [ 0.3769, -2.0972,  0.1060, -1.6787,  0.7839],\n",
            "          [ 0.2069,  0.2066,  0.6427,  0.5119,  1.7404]],\n",
            "\n",
            "         [[-0.8461, -0.2821,  1.1861,  0.2598,  0.1920],\n",
            "          [ 1.5881, -1.2557, -0.1666, -0.3812,  0.2951],\n",
            "          [ 0.7888,  1.2879,  1.1852, -1.2230, -0.5363],\n",
            "          [ 0.6092, -1.2694,  0.4870, -0.3955,  0.5433]]]])\n"
          ]
        }
      ],
      "source": [
        "# Slice and print the first two elements along the first dimension.\n",
        "sliced_tensor = tensor_4d[:2]\n",
        "print(sliced_tensor)"
      ]
    },
    {
      "cell_type": "code",
      "execution_count": 101,
      "metadata": {
        "id": "XTQZ50UC_oIX",
        "outputId": "22471760-d857-4064-eaf6-108946be6088",
        "colab": {
          "base_uri": "https://localhost:8080/"
        }
      },
      "outputs": [
        {
          "output_type": "stream",
          "name": "stdout",
          "text": [
            "tensor(2.3338)\n"
          ]
        }
      ],
      "source": [
        "# Sum all elements in the tensor.\n",
        "total_sum = tensor_4d.sum()\n",
        "print(total_sum)"
      ]
    },
    {
      "cell_type": "code",
      "execution_count": 102,
      "metadata": {
        "id": "vAvikgp__oIX",
        "outputId": "37d06e8d-e602-4e70-96ab-ba29dd331ac3",
        "colab": {
          "base_uri": "https://localhost:8080/"
        }
      },
      "outputs": [
        {
          "output_type": "stream",
          "name": "stdout",
          "text": [
            "tensor([[[-0.0710, -0.3841, -0.0439, -1.1565, -0.4691],\n",
            "         [-0.1095,  0.4192,  0.6662,  0.0107,  0.4576],\n",
            "         [ 0.3463, -0.0261,  0.6639, -0.1256,  0.1403]],\n",
            "\n",
            "        [[ 0.4964, -0.3320, -0.4514, -0.0295,  0.2171],\n",
            "         [ 0.0173, -0.6364,  0.2347, -0.6026,  0.8350],\n",
            "         [ 0.5350, -0.3798,  0.6729, -0.4350,  0.1235]]])\n",
            "torch.Size([2, 3, 5])\n"
          ]
        }
      ],
      "source": [
        "# Compute the mean along the third dimension.\n",
        "mean_along_dim3 = tensor_4d.mean(dim=2)\n",
        "print(mean_along_dim3)\n",
        "print(mean_along_dim3.shape)"
      ]
    },
    {
      "cell_type": "markdown",
      "metadata": {
        "id": "wpxLYuqP_oIX"
      },
      "source": [
        "# 10. Combining Tensor Operations"
      ]
    },
    {
      "cell_type": "code",
      "execution_count": 103,
      "metadata": {
        "id": "JhFzyqHE_oIY",
        "outputId": "69001904-8fd9-46e5-b31a-56d049224ce7",
        "colab": {
          "base_uri": "https://localhost:8080/"
        }
      },
      "outputs": [
        {
          "output_type": "stream",
          "name": "stdout",
          "text": [
            "tensor_a:\n",
            " tensor([[[-0.0881,  0.4173,  0.9924, -0.3533],\n",
            "         [-0.7220,  1.4359,  0.7330, -1.4638],\n",
            "         [-0.9128, -0.5306, -0.2671, -0.5888]],\n",
            "\n",
            "        [[-0.9412, -1.3429,  0.5338, -0.7185],\n",
            "         [ 1.1425,  0.3387,  0.0434,  0.9065],\n",
            "         [ 0.5658,  0.7867, -0.9897,  0.5975]]])\n",
            "tensor_b:\n",
            " tensor([[[ 0.9352, -0.4696,  0.4798, -0.3758],\n",
            "         [-0.2747, -1.4931,  0.4770, -1.6100],\n",
            "         [-0.1088, -0.7706,  1.1854, -0.8124]],\n",
            "\n",
            "        [[-2.0210,  0.6424,  0.1450,  0.5464],\n",
            "         [ 0.5093, -0.4154,  1.7517, -0.5867],\n",
            "         [-0.1501,  2.1410, -1.3081,  1.4038]]])\n"
          ]
        }
      ],
      "source": [
        "# Create two tensors tensor_a and tensor_b of shape (2, 3, 4) with random values.\n",
        "tensor_a = torch.randn(2, 3, 4)\n",
        "tensor_b = torch.randn(2, 3, 4)\n",
        "\n",
        "print(\"tensor_a:\\n\", tensor_a)\n",
        "print(\"tensor_b:\\n\", tensor_b)"
      ]
    },
    {
      "cell_type": "code",
      "execution_count": 104,
      "metadata": {
        "id": "33aP1ma3_oIY",
        "outputId": "da0e0433-cd57-472b-91d1-22a519b22794",
        "colab": {
          "base_uri": "https://localhost:8080/"
        }
      },
      "outputs": [
        {
          "output_type": "stream",
          "name": "stdout",
          "text": [
            "tensor([[[ 0.8472, -0.0523,  1.4723, -0.7292],\n",
            "         [-0.9966, -0.0571,  1.2099, -3.0737],\n",
            "         [-1.0216, -1.3012,  0.9183, -1.4012]],\n",
            "\n",
            "        [[-2.9622, -0.7005,  0.6788, -0.1721],\n",
            "         [ 1.6518, -0.0767,  1.7951,  0.3198],\n",
            "         [ 0.4157,  2.9277, -2.2978,  2.0012]]])\n"
          ]
        }
      ],
      "source": [
        "# Add the two tensors.\n",
        "tensor_sum = torch.add(tensor_a, tensor_b)\n",
        "print(tensor_sum)"
      ]
    },
    {
      "cell_type": "code",
      "execution_count": 105,
      "metadata": {
        "id": "z37WR9j0_oIZ",
        "outputId": "f8870373-cd2f-4884-8728-3a97e539c86b",
        "colab": {
          "base_uri": "https://localhost:8080/"
        }
      },
      "outputs": [
        {
          "output_type": "stream",
          "name": "stdout",
          "text": [
            "tensor([[[ 1.6943, -0.1045,  2.9445, -1.4583],\n",
            "         [-1.9932, -0.1143,  2.4198, -6.1475],\n",
            "         [-2.0432, -2.6024,  1.8366, -2.8023]],\n",
            "\n",
            "        [[-5.9244, -1.4010,  1.3575, -0.3443],\n",
            "         [ 3.3036, -0.1533,  3.5903,  0.6397],\n",
            "         [ 0.8313,  5.8555, -4.5956,  4.0025]]])\n"
          ]
        }
      ],
      "source": [
        "# Multiply the resulting tensor by 2.\n",
        "tensor_scaled = torch.mul(tensor_sum, 2)\n",
        "print(tensor_scaled)"
      ]
    },
    {
      "cell_type": "code",
      "execution_count": 106,
      "metadata": {
        "id": "ksLT7D6Q_oIZ",
        "outputId": "b95e597c-7572-4775-9d5d-ab94eded84ac",
        "colab": {
          "base_uri": "https://localhost:8080/"
        }
      },
      "outputs": [
        {
          "output_type": "stream",
          "name": "stdout",
          "text": [
            "tensor([[ 1.6943, -0.1045,  2.9445, -1.4583, -1.9932, -0.1143],\n",
            "        [ 2.4198, -6.1475, -2.0432, -2.6024,  1.8366, -2.8023],\n",
            "        [-5.9244, -1.4010,  1.3575, -0.3443,  3.3036, -0.1533],\n",
            "        [ 3.5903,  0.6397,  0.8313,  5.8555, -4.5956,  4.0025]])\n"
          ]
        }
      ],
      "source": [
        "# Reshape the tensor to (4, 6).\n",
        "tensor_reshaped = tensor_scaled.reshape(4, 6)\n",
        "print(tensor_reshaped)"
      ]
    },
    {
      "cell_type": "code",
      "execution_count": 107,
      "metadata": {
        "id": "EVkzBiXd_oIZ",
        "outputId": "a78673aa-c761-469e-f014-dc400d071992",
        "colab": {
          "base_uri": "https://localhost:8080/"
        }
      },
      "outputs": [
        {
          "output_type": "stream",
          "name": "stdout",
          "text": [
            "tensor([ 1.7801, -7.0133,  3.0902,  1.4505, -1.4487,  0.9326])\n"
          ]
        }
      ],
      "source": [
        "# Compute the sum along the columns.\n",
        "column_sums = tensor_reshaped.sum(dim=0)\n",
        "print(column_sums)"
      ]
    },
    {
      "cell_type": "markdown",
      "metadata": {
        "id": "znHrRafA_oIZ"
      },
      "source": [
        "-------------------------------------------- END ----------------------------------------------"
      ]
    }
  ],
  "metadata": {
    "kernelspec": {
      "display_name": "pytorch_env",
      "language": "python",
      "name": "python3"
    },
    "language_info": {
      "codemirror_mode": {
        "name": "ipython",
        "version": 3
      },
      "file_extension": ".py",
      "mimetype": "text/x-python",
      "name": "python",
      "nbconvert_exporter": "python",
      "pygments_lexer": "ipython3",
      "version": "3.10.14"
    },
    "colab": {
      "provenance": [],
      "include_colab_link": true
    }
  },
  "nbformat": 4,
  "nbformat_minor": 0
}