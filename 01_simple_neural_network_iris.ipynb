{
  "cells": [
    {
      "cell_type": "markdown",
      "metadata": {
        "id": "view-in-github",
        "colab_type": "text"
      },
      "source": [
        "<a href=\"https://colab.research.google.com/github/mdpw/pytorch-deep-learning/blob/main/01_simple_neural_network_iris.ipynb\" target=\"_parent\"><img src=\"https://colab.research.google.com/assets/colab-badge.svg\" alt=\"Open In Colab\"/></a>"
      ]
    },
    {
      "cell_type": "code",
      "execution_count": null,
      "metadata": {
        "id": "lFWhCF0w9btR"
      },
      "outputs": [],
      "source": [
        "# Sumani\n",
        "# https://www.linkedin.com/in/sumanaruban/\n",
        "# https://github.com/Sumanaruban\n",
        "# 28-7-2024\n"
      ]
    },
    {
      "cell_type": "markdown",
      "metadata": {
        "id": "B5XrjM7K9btT"
      },
      "source": [
        "# Simple Neural Network on Iris Dataset 🌸\n",
        "This notebook demonstrates how to build a basic neural network using PyTorch to classify the Iris dataset.\n",
        "\n",
        "### What you’ll learn:\n",
        "- Basic neural network architecture\n",
        "- How data is loaded and prepared\n",
        "- How model training works\n",
        "- How predictions are made and evaluated"
      ]
    },
    {
      "cell_type": "markdown",
      "metadata": {
        "id": "OnQzdG929btV"
      },
      "source": [
        "## Import packages and modules"
      ]
    },
    {
      "cell_type": "markdown",
      "metadata": {
        "id": "NjlYsBEz9btV"
      },
      "source": [
        "We use:\n",
        "\n",
        "    - torch for tensor operations and neural network building.\n",
        "\n",
        "    - torch.nn and torch.nn.functional for model architecture and activations.\n"
      ]
    },
    {
      "cell_type": "code",
      "execution_count": null,
      "metadata": {
        "id": "p766rVJw9btW"
      },
      "outputs": [],
      "source": [
        "import torch\n",
        "import torch.nn as nn\n",
        "from sklearn.datasets import load_iris\n",
        "from sklearn.model_selection import train_test_split\n",
        "import matplotlib.pyplot as plt\n",
        "import pandas as pd"
      ]
    },
    {
      "cell_type": "markdown",
      "metadata": {
        "id": "gy1DwqGd9btW"
      },
      "source": [
        "## 🌼 Iris Dataset Description\n",
        "The Iris dataset contains 150 samples from 3 flower species:\n",
        "- Setosa\n",
        "- Versicolor\n",
        "- Virginica\n",
        "\n",
        "Each sample has 4 measurements:\n",
        "- Sepal Length\n",
        "- Sepal Width\n",
        "- Petal Length\n",
        "- Petal Width\n",
        "\n",
        "Our goal is to classify the species based on these 4 features."
      ]
    },
    {
      "cell_type": "code",
      "execution_count": null,
      "metadata": {
        "id": "5WURsj3x9btW"
      },
      "outputs": [],
      "source": [
        "# Load the Dataset\n",
        "iris = load_iris()"
      ]
    },
    {
      "cell_type": "code",
      "execution_count": null,
      "metadata": {
        "id": "xWaA_6mx9btX"
      },
      "outputs": [],
      "source": [
        "# Examine the dataset\n",
        "df = pd.DataFrame(iris.data, columns=iris.feature_names)\n",
        "df['target'] = iris.target\n",
        "df"
      ]
    },
    {
      "cell_type": "code",
      "execution_count": null,
      "metadata": {
        "id": "_44js8po9btX"
      },
      "outputs": [],
      "source": [
        "# Examine the dataset\n",
        "print (df['target'].value_counts())\n",
        "print (iris.target_names)"
      ]
    },
    {
      "cell_type": "code",
      "execution_count": null,
      "metadata": {
        "id": "GkMfmxBt9btX"
      },
      "outputs": [],
      "source": [
        "# Split the dataset for training and testing\n",
        "X, y = iris.data, iris.target\n",
        "X_train, X_test, y_train, y_test = train_test_split(X, y, train_size=0.8)"
      ]
    },
    {
      "cell_type": "code",
      "execution_count": null,
      "metadata": {
        "id": "k736YrUd9btX"
      },
      "outputs": [],
      "source": [
        "# Convert the dataset to tensor format\n",
        "X_tr_tensor = torch.tensor(X_train, dtype=torch.float32)\n",
        "y_tr_tensor = torch.tensor(y_train, dtype=torch.long)"
      ]
    },
    {
      "cell_type": "markdown",
      "metadata": {
        "id": "uOn3TSrZ9btY"
      },
      "source": [
        "## 🧠 What is a Neural Network?\n",
        "A neural network is a function approximator made of layers of neurons:\n",
        "- **Input Layer**: Takes input features (4 in this case)\n",
        "- **Hidden Layer(s)**: Learns internal representations\n",
        "- **Output Layer**: Produces class probabilities (3 classes here)\n",
        "\n",
        "We’ll use PyTorch's `nn.Sequential` to define the model."
      ]
    },
    {
      "cell_type": "code",
      "execution_count": null,
      "metadata": {
        "id": "b1UrBwZ_9btY"
      },
      "outputs": [],
      "source": [
        "class FullyConnectedNN(nn.Module):\n",
        "    def __init__(self):\n",
        "        super().__init__()\n",
        "\n",
        "        # First Layer\n",
        "        self.layer_1 = nn.Linear(4, 64)     # Input layer to 64 neurons\n",
        "        self.activation_1 = nn.ReLU()       # ReLU activation function\n",
        "\n",
        "        # Second Layer\n",
        "        self.layer_2 = nn.Linear(64, 16)    # 64 neurons to 16 neurons\n",
        "        self.activation_2 = nn.ReLU()       # Another ReLU\n",
        "\n",
        "        # Third and the final Layer\n",
        "        self.layer_3 = nn.Linear(16, 3)     # Output layer to 3 neurons (classes)\n",
        "\n",
        "    def forward(self, x):\n",
        "        # Forward pass\n",
        "        x = self.layer_1(x)\n",
        "        x = self.activation_1(x)\n",
        "        x = self.layer_2(x)\n",
        "        x = self.activation_2(x)\n",
        "        x = self.layer_3(x)\n",
        "        return x"
      ]
    },
    {
      "cell_type": "code",
      "execution_count": null,
      "metadata": {
        "id": "4Cr5f6I79btY"
      },
      "outputs": [],
      "source": [
        "from torchsummary import summary\n",
        "\n",
        "model = FullyConnectedNN()\n",
        "summary(model, input_size=(1, 4))"
      ]
    },
    {
      "cell_type": "code",
      "execution_count": null,
      "metadata": {
        "id": "QmTmlHCx9btY"
      },
      "outputs": [],
      "source": [
        "from torchviz import make_dot\n",
        "import torch\n",
        "\n",
        "model = FullyConnectedNN()\n",
        "x = torch.randn(1, 4)\n",
        "y = model(x)\n",
        "\n",
        "make_dot(y, params=dict(model.named_parameters())).render(\"nn_iris_graph\", format=\"png\")\n"
      ]
    },
    {
      "cell_type": "markdown",
      "metadata": {
        "id": "zyTGcgDM9btY"
      },
      "source": [
        "## ⚙️ Training the Network\n",
        "Each epoch involves:\n",
        "1. **Forward pass**: Model makes predictions\n",
        "2. **Loss computation**: Compare predictions with true labels\n",
        "3. **Backward pass**: Compute gradients using backpropagation\n",
        "4. **Optimizer step**: Adjust model weights\n",
        "\n",
        "We repeat this for several epochs to minimize the loss."
      ]
    },
    {
      "cell_type": "code",
      "execution_count": null,
      "metadata": {
        "id": "p_qalhIH9btY"
      },
      "outputs": [],
      "source": [
        "def train_model(model):\n",
        "    epochs = 400\n",
        "    loss_arr = []\n",
        "\n",
        "    # Use CrossEntropyLoss as our loss function.\n",
        "    loss_fn = nn.CrossEntropyLoss()\n",
        "\n",
        "    # Use Adam optimizer for adjusting the weights.\n",
        "    optim = torch.optim.Adam(model.parameters(), lr=0.002)\n",
        "\n",
        "    for epoch in range(epochs):\n",
        "        # forward pass\n",
        "        ypred = model(X_tr_tensor)\n",
        "\n",
        "        # calculate loss\n",
        "        loss = loss_fn(ypred, y_tr_tensor)\n",
        "        loss_arr.append(loss.item())\n",
        "\n",
        "        # backward pass\n",
        "        loss.backward()\n",
        "        optim.step()\n",
        "        optim.zero_grad()\n",
        "\n",
        "    # Plot the loss over epochs to visualize the learning process.\n",
        "    plt.plot(loss_arr)\n",
        "    plt.show()"
      ]
    },
    {
      "cell_type": "code",
      "execution_count": null,
      "metadata": {
        "id": "zpu24KWL9btY"
      },
      "outputs": [],
      "source": [
        "model = FullyConnectedNN()\n",
        "train_model(model)"
      ]
    },
    {
      "cell_type": "markdown",
      "metadata": {
        "id": "ZmxYZevY9btY"
      },
      "source": [
        "## ✅ Final Evaluation\n",
        "After training, we use the test set to evaluate model performance.\n",
        "We’ll check:\n",
        "- Predictions vs actual values\n",
        "- Accuracy of the classifier\n",
        "\n",
        "This helps us assess how well the model has learned."
      ]
    },
    {
      "cell_type": "code",
      "execution_count": null,
      "metadata": {
        "id": "ArfZ0w-C9btY"
      },
      "outputs": [],
      "source": [
        "X_test_tensor = torch.tensor(X_test, dtype=torch.float32)\n",
        "y_test_pred = model(X_test_tensor)\n",
        "y_test_pred = torch.argmax(y_test_pred, dim=1)"
      ]
    },
    {
      "cell_type": "code",
      "execution_count": null,
      "metadata": {
        "id": "B2DJgqGX9btY"
      },
      "outputs": [],
      "source": [
        "from sklearn.metrics import accuracy_score, confusion_matrix\n",
        "import seaborn as sns\n",
        "\n",
        "print(\"Accuracy:\", accuracy_score(y_test_pred, y_test))"
      ]
    },
    {
      "cell_type": "code",
      "execution_count": null,
      "metadata": {
        "id": "reUVW9As9btZ"
      },
      "outputs": [],
      "source": [
        "confused_matrix = confusion_matrix(y_test_pred, y_test)\n",
        "\n",
        "# Plot the confusion matrix\n",
        "plt.figure(figsize=(8, 6))\n",
        "sns.heatmap(confused_matrix, annot=True, fmt='d', cmap='Blues', xticklabels=iris.target_names, yticklabels=iris.target_names)\n",
        "plt.xlabel('Predicted')\n",
        "plt.ylabel('True')\n",
        "plt.title('Confusion Matrix')\n",
        "plt.show()"
      ]
    },
    {
      "cell_type": "markdown",
      "metadata": {
        "id": "Y4spb8aS9btZ"
      },
      "source": [
        "# Exercise"
      ]
    },
    {
      "cell_type": "code",
      "execution_count": null,
      "metadata": {
        "id": "AVpAsVzc9btZ"
      },
      "outputs": [],
      "source": [
        "# 🌿 Develop a Decision Tree Classifier on Iris Dataset"
      ]
    },
    {
      "cell_type": "code",
      "execution_count": null,
      "metadata": {
        "id": "kiJk5ZID9btZ"
      },
      "outputs": [],
      "source": [
        "# Print the confusion Matrix"
      ]
    },
    {
      "cell_type": "code",
      "execution_count": null,
      "metadata": {
        "id": "kuFD_aqy9btZ"
      },
      "outputs": [],
      "source": [
        "# How does the accuracy of this Decision Tree compare to the Neural Network?\n"
      ]
    },
    {
      "cell_type": "code",
      "execution_count": null,
      "metadata": {
        "id": "dOhbMf8K9btZ"
      },
      "outputs": [],
      "source": [
        "# Which model is easier to interpret?"
      ]
    },
    {
      "cell_type": "code",
      "execution_count": null,
      "metadata": {
        "id": "z1nFBVG-9bta"
      },
      "outputs": [],
      "source": [
        "# Which one performs better on this small, structured dataset?"
      ]
    },
    {
      "cell_type": "code",
      "execution_count": null,
      "metadata": {
        "id": "a11tsxCV9bta"
      },
      "outputs": [],
      "source": [
        "# Would a neural network be necessary for this kind of problem?"
      ]
    },
    {
      "cell_type": "code",
      "execution_count": null,
      "metadata": {
        "id": "qxazY4dh9bta"
      },
      "outputs": [],
      "source": []
    }
  ],
  "metadata": {
    "kernelspec": {
      "display_name": "deeplearning",
      "language": "python",
      "name": "python3"
    },
    "language_info": {
      "codemirror_mode": {
        "name": "ipython",
        "version": 3
      },
      "file_extension": ".py",
      "mimetype": "text/x-python",
      "name": "python",
      "nbconvert_exporter": "python",
      "pygments_lexer": "ipython3",
      "version": "3.12.11"
    },
    "colab": {
      "provenance": [],
      "include_colab_link": true
    }
  },
  "nbformat": 4,
  "nbformat_minor": 0
}